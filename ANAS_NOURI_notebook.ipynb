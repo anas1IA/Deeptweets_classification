{
  "nbformat": 4,
  "nbformat_minor": 0,
  "metadata": {
    "colab": {
      "provenance": [],
      "authorship_tag": "ABX9TyN8XJNqiH7G4ZMqZbPhcQnB",
      "include_colab_link": true
    },
    "kernelspec": {
      "name": "python3",
      "display_name": "Python 3"
    },
    "language_info": {
      "name": "python"
    },
    "widgets": {
      "application/vnd.jupyter.widget-state+json": {
        "cf324282be2d45e1b995b316a39a2789": {
          "model_module": "@jupyter-widgets/controls",
          "model_name": "HBoxModel",
          "model_module_version": "1.5.0",
          "state": {
            "_dom_classes": [],
            "_model_module": "@jupyter-widgets/controls",
            "_model_module_version": "1.5.0",
            "_model_name": "HBoxModel",
            "_view_count": null,
            "_view_module": "@jupyter-widgets/controls",
            "_view_module_version": "1.5.0",
            "_view_name": "HBoxView",
            "box_style": "",
            "children": [
              "IPY_MODEL_6eea3c38c53d4eaf8e8b0a3b4774f201",
              "IPY_MODEL_07d6a10555dd4dc992f9bda1d770faea",
              "IPY_MODEL_e203d6a7882d466082fc13c81c9c1ecd"
            ],
            "layout": "IPY_MODEL_013061e30cb143669e7fa2d24a19c2b8"
          }
        },
        "6eea3c38c53d4eaf8e8b0a3b4774f201": {
          "model_module": "@jupyter-widgets/controls",
          "model_name": "HTMLModel",
          "model_module_version": "1.5.0",
          "state": {
            "_dom_classes": [],
            "_model_module": "@jupyter-widgets/controls",
            "_model_module_version": "1.5.0",
            "_model_name": "HTMLModel",
            "_view_count": null,
            "_view_module": "@jupyter-widgets/controls",
            "_view_module_version": "1.5.0",
            "_view_name": "HTMLView",
            "description": "",
            "description_tooltip": null,
            "layout": "IPY_MODEL_ff621a4c6e004d5a87a8a44a661544c8",
            "placeholder": "​",
            "style": "IPY_MODEL_642f14d3fe0a426a8687f2df89f026ba",
            "value": "100%"
          }
        },
        "07d6a10555dd4dc992f9bda1d770faea": {
          "model_module": "@jupyter-widgets/controls",
          "model_name": "FloatProgressModel",
          "model_module_version": "1.5.0",
          "state": {
            "_dom_classes": [],
            "_model_module": "@jupyter-widgets/controls",
            "_model_module_version": "1.5.0",
            "_model_name": "FloatProgressModel",
            "_view_count": null,
            "_view_module": "@jupyter-widgets/controls",
            "_view_module_version": "1.5.0",
            "_view_name": "ProgressView",
            "bar_style": "success",
            "description": "",
            "description_tooltip": null,
            "layout": "IPY_MODEL_fdd0ac8831b8447aa4a40b14d326b88d",
            "max": 6525,
            "min": 0,
            "orientation": "horizontal",
            "style": "IPY_MODEL_fc0b6e9e5f4a41039dd5703c496a8739",
            "value": 6525
          }
        },
        "e203d6a7882d466082fc13c81c9c1ecd": {
          "model_module": "@jupyter-widgets/controls",
          "model_name": "HTMLModel",
          "model_module_version": "1.5.0",
          "state": {
            "_dom_classes": [],
            "_model_module": "@jupyter-widgets/controls",
            "_model_module_version": "1.5.0",
            "_model_name": "HTMLModel",
            "_view_count": null,
            "_view_module": "@jupyter-widgets/controls",
            "_view_module_version": "1.5.0",
            "_view_name": "HTMLView",
            "description": "",
            "description_tooltip": null,
            "layout": "IPY_MODEL_e5be064ce20048e4a50f708cef238549",
            "placeholder": "​",
            "style": "IPY_MODEL_09aa169255d7442ab75289906c2854b9",
            "value": " 6525/6525 [01:36&lt;00:00, 74.49it/s]"
          }
        },
        "013061e30cb143669e7fa2d24a19c2b8": {
          "model_module": "@jupyter-widgets/base",
          "model_name": "LayoutModel",
          "model_module_version": "1.2.0",
          "state": {
            "_model_module": "@jupyter-widgets/base",
            "_model_module_version": "1.2.0",
            "_model_name": "LayoutModel",
            "_view_count": null,
            "_view_module": "@jupyter-widgets/base",
            "_view_module_version": "1.2.0",
            "_view_name": "LayoutView",
            "align_content": null,
            "align_items": null,
            "align_self": null,
            "border": null,
            "bottom": null,
            "display": null,
            "flex": null,
            "flex_flow": null,
            "grid_area": null,
            "grid_auto_columns": null,
            "grid_auto_flow": null,
            "grid_auto_rows": null,
            "grid_column": null,
            "grid_gap": null,
            "grid_row": null,
            "grid_template_areas": null,
            "grid_template_columns": null,
            "grid_template_rows": null,
            "height": null,
            "justify_content": null,
            "justify_items": null,
            "left": null,
            "margin": null,
            "max_height": null,
            "max_width": null,
            "min_height": null,
            "min_width": null,
            "object_fit": null,
            "object_position": null,
            "order": null,
            "overflow": null,
            "overflow_x": null,
            "overflow_y": null,
            "padding": null,
            "right": null,
            "top": null,
            "visibility": null,
            "width": null
          }
        },
        "ff621a4c6e004d5a87a8a44a661544c8": {
          "model_module": "@jupyter-widgets/base",
          "model_name": "LayoutModel",
          "model_module_version": "1.2.0",
          "state": {
            "_model_module": "@jupyter-widgets/base",
            "_model_module_version": "1.2.0",
            "_model_name": "LayoutModel",
            "_view_count": null,
            "_view_module": "@jupyter-widgets/base",
            "_view_module_version": "1.2.0",
            "_view_name": "LayoutView",
            "align_content": null,
            "align_items": null,
            "align_self": null,
            "border": null,
            "bottom": null,
            "display": null,
            "flex": null,
            "flex_flow": null,
            "grid_area": null,
            "grid_auto_columns": null,
            "grid_auto_flow": null,
            "grid_auto_rows": null,
            "grid_column": null,
            "grid_gap": null,
            "grid_row": null,
            "grid_template_areas": null,
            "grid_template_columns": null,
            "grid_template_rows": null,
            "height": null,
            "justify_content": null,
            "justify_items": null,
            "left": null,
            "margin": null,
            "max_height": null,
            "max_width": null,
            "min_height": null,
            "min_width": null,
            "object_fit": null,
            "object_position": null,
            "order": null,
            "overflow": null,
            "overflow_x": null,
            "overflow_y": null,
            "padding": null,
            "right": null,
            "top": null,
            "visibility": null,
            "width": null
          }
        },
        "642f14d3fe0a426a8687f2df89f026ba": {
          "model_module": "@jupyter-widgets/controls",
          "model_name": "DescriptionStyleModel",
          "model_module_version": "1.5.0",
          "state": {
            "_model_module": "@jupyter-widgets/controls",
            "_model_module_version": "1.5.0",
            "_model_name": "DescriptionStyleModel",
            "_view_count": null,
            "_view_module": "@jupyter-widgets/base",
            "_view_module_version": "1.2.0",
            "_view_name": "StyleView",
            "description_width": ""
          }
        },
        "fdd0ac8831b8447aa4a40b14d326b88d": {
          "model_module": "@jupyter-widgets/base",
          "model_name": "LayoutModel",
          "model_module_version": "1.2.0",
          "state": {
            "_model_module": "@jupyter-widgets/base",
            "_model_module_version": "1.2.0",
            "_model_name": "LayoutModel",
            "_view_count": null,
            "_view_module": "@jupyter-widgets/base",
            "_view_module_version": "1.2.0",
            "_view_name": "LayoutView",
            "align_content": null,
            "align_items": null,
            "align_self": null,
            "border": null,
            "bottom": null,
            "display": null,
            "flex": null,
            "flex_flow": null,
            "grid_area": null,
            "grid_auto_columns": null,
            "grid_auto_flow": null,
            "grid_auto_rows": null,
            "grid_column": null,
            "grid_gap": null,
            "grid_row": null,
            "grid_template_areas": null,
            "grid_template_columns": null,
            "grid_template_rows": null,
            "height": null,
            "justify_content": null,
            "justify_items": null,
            "left": null,
            "margin": null,
            "max_height": null,
            "max_width": null,
            "min_height": null,
            "min_width": null,
            "object_fit": null,
            "object_position": null,
            "order": null,
            "overflow": null,
            "overflow_x": null,
            "overflow_y": null,
            "padding": null,
            "right": null,
            "top": null,
            "visibility": null,
            "width": null
          }
        },
        "fc0b6e9e5f4a41039dd5703c496a8739": {
          "model_module": "@jupyter-widgets/controls",
          "model_name": "ProgressStyleModel",
          "model_module_version": "1.5.0",
          "state": {
            "_model_module": "@jupyter-widgets/controls",
            "_model_module_version": "1.5.0",
            "_model_name": "ProgressStyleModel",
            "_view_count": null,
            "_view_module": "@jupyter-widgets/base",
            "_view_module_version": "1.2.0",
            "_view_name": "StyleView",
            "bar_color": null,
            "description_width": ""
          }
        },
        "e5be064ce20048e4a50f708cef238549": {
          "model_module": "@jupyter-widgets/base",
          "model_name": "LayoutModel",
          "model_module_version": "1.2.0",
          "state": {
            "_model_module": "@jupyter-widgets/base",
            "_model_module_version": "1.2.0",
            "_model_name": "LayoutModel",
            "_view_count": null,
            "_view_module": "@jupyter-widgets/base",
            "_view_module_version": "1.2.0",
            "_view_name": "LayoutView",
            "align_content": null,
            "align_items": null,
            "align_self": null,
            "border": null,
            "bottom": null,
            "display": null,
            "flex": null,
            "flex_flow": null,
            "grid_area": null,
            "grid_auto_columns": null,
            "grid_auto_flow": null,
            "grid_auto_rows": null,
            "grid_column": null,
            "grid_gap": null,
            "grid_row": null,
            "grid_template_areas": null,
            "grid_template_columns": null,
            "grid_template_rows": null,
            "height": null,
            "justify_content": null,
            "justify_items": null,
            "left": null,
            "margin": null,
            "max_height": null,
            "max_width": null,
            "min_height": null,
            "min_width": null,
            "object_fit": null,
            "object_position": null,
            "order": null,
            "overflow": null,
            "overflow_x": null,
            "overflow_y": null,
            "padding": null,
            "right": null,
            "top": null,
            "visibility": null,
            "width": null
          }
        },
        "09aa169255d7442ab75289906c2854b9": {
          "model_module": "@jupyter-widgets/controls",
          "model_name": "DescriptionStyleModel",
          "model_module_version": "1.5.0",
          "state": {
            "_model_module": "@jupyter-widgets/controls",
            "_model_module_version": "1.5.0",
            "_model_name": "DescriptionStyleModel",
            "_view_count": null,
            "_view_module": "@jupyter-widgets/base",
            "_view_module_version": "1.2.0",
            "_view_name": "StyleView",
            "description_width": ""
          }
        },
        "cb39711a86a541e2adf58d5f0d665892": {
          "model_module": "@jupyter-widgets/controls",
          "model_name": "HBoxModel",
          "model_module_version": "1.5.0",
          "state": {
            "_dom_classes": [],
            "_model_module": "@jupyter-widgets/controls",
            "_model_module_version": "1.5.0",
            "_model_name": "HBoxModel",
            "_view_count": null,
            "_view_module": "@jupyter-widgets/controls",
            "_view_module_version": "1.5.0",
            "_view_name": "HBoxView",
            "box_style": "",
            "children": [
              "IPY_MODEL_1292d53a11784c4db9512a7e470fb790",
              "IPY_MODEL_6d9fda8dad9d4403b3a84fc935df428f",
              "IPY_MODEL_04487cb9ed0f4611a7d21dfb79b67b18"
            ],
            "layout": "IPY_MODEL_962aed21a8a748949afb8b4399d09ae4"
          }
        },
        "1292d53a11784c4db9512a7e470fb790": {
          "model_module": "@jupyter-widgets/controls",
          "model_name": "HTMLModel",
          "model_module_version": "1.5.0",
          "state": {
            "_dom_classes": [],
            "_model_module": "@jupyter-widgets/controls",
            "_model_module_version": "1.5.0",
            "_model_name": "HTMLModel",
            "_view_count": null,
            "_view_module": "@jupyter-widgets/controls",
            "_view_module_version": "1.5.0",
            "_view_name": "HTMLView",
            "description": "",
            "description_tooltip": null,
            "layout": "IPY_MODEL_4ba9c13d268845f087255c55efb8cb69",
            "placeholder": "​",
            "style": "IPY_MODEL_ed8bbad64a0946ab83d70db4c631d63b",
            "value": "100%"
          }
        },
        "6d9fda8dad9d4403b3a84fc935df428f": {
          "model_module": "@jupyter-widgets/controls",
          "model_name": "FloatProgressModel",
          "model_module_version": "1.5.0",
          "state": {
            "_dom_classes": [],
            "_model_module": "@jupyter-widgets/controls",
            "_model_module_version": "1.5.0",
            "_model_name": "FloatProgressModel",
            "_view_count": null,
            "_view_module": "@jupyter-widgets/controls",
            "_view_module_version": "1.5.0",
            "_view_name": "ProgressView",
            "bar_style": "success",
            "description": "",
            "description_tooltip": null,
            "layout": "IPY_MODEL_7f8cfdd673d1412eaa9ef64f7d8a4d64",
            "max": 2610,
            "min": 0,
            "orientation": "horizontal",
            "style": "IPY_MODEL_15f18aaea8084d84a77ebaa3b1cc5dc3",
            "value": 2610
          }
        },
        "04487cb9ed0f4611a7d21dfb79b67b18": {
          "model_module": "@jupyter-widgets/controls",
          "model_name": "HTMLModel",
          "model_module_version": "1.5.0",
          "state": {
            "_dom_classes": [],
            "_model_module": "@jupyter-widgets/controls",
            "_model_module_version": "1.5.0",
            "_model_name": "HTMLModel",
            "_view_count": null,
            "_view_module": "@jupyter-widgets/controls",
            "_view_module_version": "1.5.0",
            "_view_name": "HTMLView",
            "description": "",
            "description_tooltip": null,
            "layout": "IPY_MODEL_26245a6076b143259bf05a1ced63b408",
            "placeholder": "​",
            "style": "IPY_MODEL_51eb2e60ce7d434a80b923433d402271",
            "value": " 2610/2610 [00:38&lt;00:00, 71.54it/s]"
          }
        },
        "962aed21a8a748949afb8b4399d09ae4": {
          "model_module": "@jupyter-widgets/base",
          "model_name": "LayoutModel",
          "model_module_version": "1.2.0",
          "state": {
            "_model_module": "@jupyter-widgets/base",
            "_model_module_version": "1.2.0",
            "_model_name": "LayoutModel",
            "_view_count": null,
            "_view_module": "@jupyter-widgets/base",
            "_view_module_version": "1.2.0",
            "_view_name": "LayoutView",
            "align_content": null,
            "align_items": null,
            "align_self": null,
            "border": null,
            "bottom": null,
            "display": null,
            "flex": null,
            "flex_flow": null,
            "grid_area": null,
            "grid_auto_columns": null,
            "grid_auto_flow": null,
            "grid_auto_rows": null,
            "grid_column": null,
            "grid_gap": null,
            "grid_row": null,
            "grid_template_areas": null,
            "grid_template_columns": null,
            "grid_template_rows": null,
            "height": null,
            "justify_content": null,
            "justify_items": null,
            "left": null,
            "margin": null,
            "max_height": null,
            "max_width": null,
            "min_height": null,
            "min_width": null,
            "object_fit": null,
            "object_position": null,
            "order": null,
            "overflow": null,
            "overflow_x": null,
            "overflow_y": null,
            "padding": null,
            "right": null,
            "top": null,
            "visibility": null,
            "width": null
          }
        },
        "4ba9c13d268845f087255c55efb8cb69": {
          "model_module": "@jupyter-widgets/base",
          "model_name": "LayoutModel",
          "model_module_version": "1.2.0",
          "state": {
            "_model_module": "@jupyter-widgets/base",
            "_model_module_version": "1.2.0",
            "_model_name": "LayoutModel",
            "_view_count": null,
            "_view_module": "@jupyter-widgets/base",
            "_view_module_version": "1.2.0",
            "_view_name": "LayoutView",
            "align_content": null,
            "align_items": null,
            "align_self": null,
            "border": null,
            "bottom": null,
            "display": null,
            "flex": null,
            "flex_flow": null,
            "grid_area": null,
            "grid_auto_columns": null,
            "grid_auto_flow": null,
            "grid_auto_rows": null,
            "grid_column": null,
            "grid_gap": null,
            "grid_row": null,
            "grid_template_areas": null,
            "grid_template_columns": null,
            "grid_template_rows": null,
            "height": null,
            "justify_content": null,
            "justify_items": null,
            "left": null,
            "margin": null,
            "max_height": null,
            "max_width": null,
            "min_height": null,
            "min_width": null,
            "object_fit": null,
            "object_position": null,
            "order": null,
            "overflow": null,
            "overflow_x": null,
            "overflow_y": null,
            "padding": null,
            "right": null,
            "top": null,
            "visibility": null,
            "width": null
          }
        },
        "ed8bbad64a0946ab83d70db4c631d63b": {
          "model_module": "@jupyter-widgets/controls",
          "model_name": "DescriptionStyleModel",
          "model_module_version": "1.5.0",
          "state": {
            "_model_module": "@jupyter-widgets/controls",
            "_model_module_version": "1.5.0",
            "_model_name": "DescriptionStyleModel",
            "_view_count": null,
            "_view_module": "@jupyter-widgets/base",
            "_view_module_version": "1.2.0",
            "_view_name": "StyleView",
            "description_width": ""
          }
        },
        "7f8cfdd673d1412eaa9ef64f7d8a4d64": {
          "model_module": "@jupyter-widgets/base",
          "model_name": "LayoutModel",
          "model_module_version": "1.2.0",
          "state": {
            "_model_module": "@jupyter-widgets/base",
            "_model_module_version": "1.2.0",
            "_model_name": "LayoutModel",
            "_view_count": null,
            "_view_module": "@jupyter-widgets/base",
            "_view_module_version": "1.2.0",
            "_view_name": "LayoutView",
            "align_content": null,
            "align_items": null,
            "align_self": null,
            "border": null,
            "bottom": null,
            "display": null,
            "flex": null,
            "flex_flow": null,
            "grid_area": null,
            "grid_auto_columns": null,
            "grid_auto_flow": null,
            "grid_auto_rows": null,
            "grid_column": null,
            "grid_gap": null,
            "grid_row": null,
            "grid_template_areas": null,
            "grid_template_columns": null,
            "grid_template_rows": null,
            "height": null,
            "justify_content": null,
            "justify_items": null,
            "left": null,
            "margin": null,
            "max_height": null,
            "max_width": null,
            "min_height": null,
            "min_width": null,
            "object_fit": null,
            "object_position": null,
            "order": null,
            "overflow": null,
            "overflow_x": null,
            "overflow_y": null,
            "padding": null,
            "right": null,
            "top": null,
            "visibility": null,
            "width": null
          }
        },
        "15f18aaea8084d84a77ebaa3b1cc5dc3": {
          "model_module": "@jupyter-widgets/controls",
          "model_name": "ProgressStyleModel",
          "model_module_version": "1.5.0",
          "state": {
            "_model_module": "@jupyter-widgets/controls",
            "_model_module_version": "1.5.0",
            "_model_name": "ProgressStyleModel",
            "_view_count": null,
            "_view_module": "@jupyter-widgets/base",
            "_view_module_version": "1.2.0",
            "_view_name": "StyleView",
            "bar_color": null,
            "description_width": ""
          }
        },
        "26245a6076b143259bf05a1ced63b408": {
          "model_module": "@jupyter-widgets/base",
          "model_name": "LayoutModel",
          "model_module_version": "1.2.0",
          "state": {
            "_model_module": "@jupyter-widgets/base",
            "_model_module_version": "1.2.0",
            "_model_name": "LayoutModel",
            "_view_count": null,
            "_view_module": "@jupyter-widgets/base",
            "_view_module_version": "1.2.0",
            "_view_name": "LayoutView",
            "align_content": null,
            "align_items": null,
            "align_self": null,
            "border": null,
            "bottom": null,
            "display": null,
            "flex": null,
            "flex_flow": null,
            "grid_area": null,
            "grid_auto_columns": null,
            "grid_auto_flow": null,
            "grid_auto_rows": null,
            "grid_column": null,
            "grid_gap": null,
            "grid_row": null,
            "grid_template_areas": null,
            "grid_template_columns": null,
            "grid_template_rows": null,
            "height": null,
            "justify_content": null,
            "justify_items": null,
            "left": null,
            "margin": null,
            "max_height": null,
            "max_width": null,
            "min_height": null,
            "min_width": null,
            "object_fit": null,
            "object_position": null,
            "order": null,
            "overflow": null,
            "overflow_x": null,
            "overflow_y": null,
            "padding": null,
            "right": null,
            "top": null,
            "visibility": null,
            "width": null
          }
        },
        "51eb2e60ce7d434a80b923433d402271": {
          "model_module": "@jupyter-widgets/controls",
          "model_name": "DescriptionStyleModel",
          "model_module_version": "1.5.0",
          "state": {
            "_model_module": "@jupyter-widgets/controls",
            "_model_module_version": "1.5.0",
            "_model_name": "DescriptionStyleModel",
            "_view_count": null,
            "_view_module": "@jupyter-widgets/base",
            "_view_module_version": "1.2.0",
            "_view_name": "StyleView",
            "description_width": ""
          }
        },
        "84cd903ea83047a99de3252254310873": {
          "model_module": "@jupyter-widgets/controls",
          "model_name": "HBoxModel",
          "model_module_version": "1.5.0",
          "state": {
            "_dom_classes": [],
            "_model_module": "@jupyter-widgets/controls",
            "_model_module_version": "1.5.0",
            "_model_name": "HBoxModel",
            "_view_count": null,
            "_view_module": "@jupyter-widgets/controls",
            "_view_module_version": "1.5.0",
            "_view_name": "HBoxView",
            "box_style": "",
            "children": [
              "IPY_MODEL_38f62dc3a3fe4836aadc297bc5c36224",
              "IPY_MODEL_9abd2291c15a4d79a904e7a6c1c0890c",
              "IPY_MODEL_0d8e96b9e6e24649b8d11ad539724967"
            ],
            "layout": "IPY_MODEL_eaffd98b756a475caeb9fcf2ce3c6fe3"
          }
        },
        "38f62dc3a3fe4836aadc297bc5c36224": {
          "model_module": "@jupyter-widgets/controls",
          "model_name": "HTMLModel",
          "model_module_version": "1.5.0",
          "state": {
            "_dom_classes": [],
            "_model_module": "@jupyter-widgets/controls",
            "_model_module_version": "1.5.0",
            "_model_name": "HTMLModel",
            "_view_count": null,
            "_view_module": "@jupyter-widgets/controls",
            "_view_module_version": "1.5.0",
            "_view_name": "HTMLView",
            "description": "",
            "description_tooltip": null,
            "layout": "IPY_MODEL_6462324dc80e478b9884f67a6fcb9b3a",
            "placeholder": "​",
            "style": "IPY_MODEL_3877948f09a94c1f8d3389659080780b",
            "value": "100%"
          }
        },
        "9abd2291c15a4d79a904e7a6c1c0890c": {
          "model_module": "@jupyter-widgets/controls",
          "model_name": "FloatProgressModel",
          "model_module_version": "1.5.0",
          "state": {
            "_dom_classes": [],
            "_model_module": "@jupyter-widgets/controls",
            "_model_module_version": "1.5.0",
            "_model_name": "FloatProgressModel",
            "_view_count": null,
            "_view_module": "@jupyter-widgets/controls",
            "_view_module_version": "1.5.0",
            "_view_name": "ProgressView",
            "bar_style": "success",
            "description": "",
            "description_tooltip": null,
            "layout": "IPY_MODEL_707ec475f51f469ab1c596922ed71a80",
            "max": 20,
            "min": 0,
            "orientation": "horizontal",
            "style": "IPY_MODEL_e7258ec9c75c414c9c139f604454df0e",
            "value": 20
          }
        },
        "0d8e96b9e6e24649b8d11ad539724967": {
          "model_module": "@jupyter-widgets/controls",
          "model_name": "HTMLModel",
          "model_module_version": "1.5.0",
          "state": {
            "_dom_classes": [],
            "_model_module": "@jupyter-widgets/controls",
            "_model_module_version": "1.5.0",
            "_model_name": "HTMLModel",
            "_view_count": null,
            "_view_module": "@jupyter-widgets/controls",
            "_view_module_version": "1.5.0",
            "_view_name": "HTMLView",
            "description": "",
            "description_tooltip": null,
            "layout": "IPY_MODEL_0f650094add14dc890187128e8c9a5ad",
            "placeholder": "​",
            "style": "IPY_MODEL_566798be2f7f440a9348499c92740280",
            "value": " 20/20 [03:56&lt;00:00, 16.95s/it]"
          }
        },
        "eaffd98b756a475caeb9fcf2ce3c6fe3": {
          "model_module": "@jupyter-widgets/base",
          "model_name": "LayoutModel",
          "model_module_version": "1.2.0",
          "state": {
            "_model_module": "@jupyter-widgets/base",
            "_model_module_version": "1.2.0",
            "_model_name": "LayoutModel",
            "_view_count": null,
            "_view_module": "@jupyter-widgets/base",
            "_view_module_version": "1.2.0",
            "_view_name": "LayoutView",
            "align_content": null,
            "align_items": null,
            "align_self": null,
            "border": null,
            "bottom": null,
            "display": null,
            "flex": null,
            "flex_flow": null,
            "grid_area": null,
            "grid_auto_columns": null,
            "grid_auto_flow": null,
            "grid_auto_rows": null,
            "grid_column": null,
            "grid_gap": null,
            "grid_row": null,
            "grid_template_areas": null,
            "grid_template_columns": null,
            "grid_template_rows": null,
            "height": null,
            "justify_content": null,
            "justify_items": null,
            "left": null,
            "margin": null,
            "max_height": null,
            "max_width": null,
            "min_height": null,
            "min_width": null,
            "object_fit": null,
            "object_position": null,
            "order": null,
            "overflow": null,
            "overflow_x": null,
            "overflow_y": null,
            "padding": null,
            "right": null,
            "top": null,
            "visibility": null,
            "width": null
          }
        },
        "6462324dc80e478b9884f67a6fcb9b3a": {
          "model_module": "@jupyter-widgets/base",
          "model_name": "LayoutModel",
          "model_module_version": "1.2.0",
          "state": {
            "_model_module": "@jupyter-widgets/base",
            "_model_module_version": "1.2.0",
            "_model_name": "LayoutModel",
            "_view_count": null,
            "_view_module": "@jupyter-widgets/base",
            "_view_module_version": "1.2.0",
            "_view_name": "LayoutView",
            "align_content": null,
            "align_items": null,
            "align_self": null,
            "border": null,
            "bottom": null,
            "display": null,
            "flex": null,
            "flex_flow": null,
            "grid_area": null,
            "grid_auto_columns": null,
            "grid_auto_flow": null,
            "grid_auto_rows": null,
            "grid_column": null,
            "grid_gap": null,
            "grid_row": null,
            "grid_template_areas": null,
            "grid_template_columns": null,
            "grid_template_rows": null,
            "height": null,
            "justify_content": null,
            "justify_items": null,
            "left": null,
            "margin": null,
            "max_height": null,
            "max_width": null,
            "min_height": null,
            "min_width": null,
            "object_fit": null,
            "object_position": null,
            "order": null,
            "overflow": null,
            "overflow_x": null,
            "overflow_y": null,
            "padding": null,
            "right": null,
            "top": null,
            "visibility": null,
            "width": null
          }
        },
        "3877948f09a94c1f8d3389659080780b": {
          "model_module": "@jupyter-widgets/controls",
          "model_name": "DescriptionStyleModel",
          "model_module_version": "1.5.0",
          "state": {
            "_model_module": "@jupyter-widgets/controls",
            "_model_module_version": "1.5.0",
            "_model_name": "DescriptionStyleModel",
            "_view_count": null,
            "_view_module": "@jupyter-widgets/base",
            "_view_module_version": "1.2.0",
            "_view_name": "StyleView",
            "description_width": ""
          }
        },
        "707ec475f51f469ab1c596922ed71a80": {
          "model_module": "@jupyter-widgets/base",
          "model_name": "LayoutModel",
          "model_module_version": "1.2.0",
          "state": {
            "_model_module": "@jupyter-widgets/base",
            "_model_module_version": "1.2.0",
            "_model_name": "LayoutModel",
            "_view_count": null,
            "_view_module": "@jupyter-widgets/base",
            "_view_module_version": "1.2.0",
            "_view_name": "LayoutView",
            "align_content": null,
            "align_items": null,
            "align_self": null,
            "border": null,
            "bottom": null,
            "display": null,
            "flex": null,
            "flex_flow": null,
            "grid_area": null,
            "grid_auto_columns": null,
            "grid_auto_flow": null,
            "grid_auto_rows": null,
            "grid_column": null,
            "grid_gap": null,
            "grid_row": null,
            "grid_template_areas": null,
            "grid_template_columns": null,
            "grid_template_rows": null,
            "height": null,
            "justify_content": null,
            "justify_items": null,
            "left": null,
            "margin": null,
            "max_height": null,
            "max_width": null,
            "min_height": null,
            "min_width": null,
            "object_fit": null,
            "object_position": null,
            "order": null,
            "overflow": null,
            "overflow_x": null,
            "overflow_y": null,
            "padding": null,
            "right": null,
            "top": null,
            "visibility": null,
            "width": null
          }
        },
        "e7258ec9c75c414c9c139f604454df0e": {
          "model_module": "@jupyter-widgets/controls",
          "model_name": "ProgressStyleModel",
          "model_module_version": "1.5.0",
          "state": {
            "_model_module": "@jupyter-widgets/controls",
            "_model_module_version": "1.5.0",
            "_model_name": "ProgressStyleModel",
            "_view_count": null,
            "_view_module": "@jupyter-widgets/base",
            "_view_module_version": "1.2.0",
            "_view_name": "StyleView",
            "bar_color": null,
            "description_width": ""
          }
        },
        "0f650094add14dc890187128e8c9a5ad": {
          "model_module": "@jupyter-widgets/base",
          "model_name": "LayoutModel",
          "model_module_version": "1.2.0",
          "state": {
            "_model_module": "@jupyter-widgets/base",
            "_model_module_version": "1.2.0",
            "_model_name": "LayoutModel",
            "_view_count": null,
            "_view_module": "@jupyter-widgets/base",
            "_view_module_version": "1.2.0",
            "_view_name": "LayoutView",
            "align_content": null,
            "align_items": null,
            "align_self": null,
            "border": null,
            "bottom": null,
            "display": null,
            "flex": null,
            "flex_flow": null,
            "grid_area": null,
            "grid_auto_columns": null,
            "grid_auto_flow": null,
            "grid_auto_rows": null,
            "grid_column": null,
            "grid_gap": null,
            "grid_row": null,
            "grid_template_areas": null,
            "grid_template_columns": null,
            "grid_template_rows": null,
            "height": null,
            "justify_content": null,
            "justify_items": null,
            "left": null,
            "margin": null,
            "max_height": null,
            "max_width": null,
            "min_height": null,
            "min_width": null,
            "object_fit": null,
            "object_position": null,
            "order": null,
            "overflow": null,
            "overflow_x": null,
            "overflow_y": null,
            "padding": null,
            "right": null,
            "top": null,
            "visibility": null,
            "width": null
          }
        },
        "566798be2f7f440a9348499c92740280": {
          "model_module": "@jupyter-widgets/controls",
          "model_name": "DescriptionStyleModel",
          "model_module_version": "1.5.0",
          "state": {
            "_model_module": "@jupyter-widgets/controls",
            "_model_module_version": "1.5.0",
            "_model_name": "DescriptionStyleModel",
            "_view_count": null,
            "_view_module": "@jupyter-widgets/base",
            "_view_module_version": "1.2.0",
            "_view_name": "StyleView",
            "description_width": ""
          }
        }
      }
    }
  },
  "cells": [
    {
      "cell_type": "markdown",
      "metadata": {
        "id": "view-in-github",
        "colab_type": "text"
      },
      "source": [
        "<a href=\"https://colab.research.google.com/github/anas1IA/Deeptweets_classification/blob/main/ANAS_NOURI_notebook.ipynb\" target=\"_parent\"><img src=\"https://colab.research.google.com/assets/colab-badge.svg\" alt=\"Open In Colab\"/></a>"
      ]
    },
    {
      "cell_type": "markdown",
      "source": [
        "### ORACLE\n",
        "# <center> MADC Intership Program Generic</center>\n",
        "## <center> ML-Tweets Classification </center>\n",
        "### <center> ANAS NOURI</center>\n",
        "### <center>Rabat, Morocco, April 2024</center>"
      ],
      "metadata": {
        "id": "QAilomX9h_cG"
      }
    },
    {
      "cell_type": "markdown",
      "source": [
        "# About this task\n",
        "\n",
        "The task is a binary classification for tweets into the two classes Politics and Sports using the tweet text as input."
      ],
      "metadata": {
        "id": "zNlfZS4giNnv"
      }
    },
    {
      "cell_type": "code",
      "execution_count": 213,
      "metadata": {
        "colab": {
          "base_uri": "https://localhost:8080/"
        },
        "id": "w6c1RhtJhurG",
        "outputId": "d74f5f84-6a69-4a8c-c4de-f9d0b3c8fc1d"
      },
      "outputs": [
        {
          "output_type": "stream",
          "name": "stderr",
          "text": [
            "[nltk_data] Downloading package stopwords to /root/nltk_data...\n",
            "[nltk_data]   Package stopwords is already up-to-date!\n"
          ]
        }
      ],
      "source": [
        "import numpy as np\n",
        "import pandas as pd\n",
        "import math\n",
        "import matplotlib.pyplot as plt\n",
        "%matplotlib inline\n",
        "import seaborn as sns\n",
        "import re\n",
        "import string\n",
        "from collections import Counter\n",
        "import copy\n",
        "\n",
        "from PIL import Image\n",
        "from wordcloud import WordCloud, STOPWORDS, ImageColorGenerator\n",
        "\n",
        "from sklearn.linear_model import LogisticRegression\n",
        "from sklearn.model_selection import cross_val_score\n",
        "from sklearn.decomposition import PCA\n",
        "from sklearn.feature_extraction.text import TfidfVectorizer\n",
        "from sklearn.decomposition import TruncatedSVD\n",
        "from sklearn.neural_network import MLPClassifier\n",
        "\n",
        "import nltk\n",
        "import nltk\n",
        "nltk.download('stopwords')\n",
        "from nltk.corpus import stopwords\n",
        "# nltk.download('punkt')\n",
        "\n",
        "from tqdm.auto import tqdm\n",
        "\n",
        "import os\n",
        "\n",
        "from sklearn.model_selection import train_test_split\n",
        "from sklearn.metrics import accuracy_score\n",
        "from sklearn.naive_bayes import MultinomialNB,BernoulliNB\n",
        "from nltk.corpus import wordnet\n",
        "import string\n",
        "from sklearn.metrics import classification_report,ConfusionMatrixDisplay,confusion_matrix"
      ]
    },
    {
      "cell_type": "code",
      "source": [
        "train =  pd.read_csv(\"train.csv\")\n",
        "training = pd.read_csv(\"training.csv\")\n",
        "test =  pd.read_csv(\"test.csv\")"
      ],
      "metadata": {
        "id": "jDQo71wAiVmi"
      },
      "execution_count": 214,
      "outputs": []
    },
    {
      "cell_type": "code",
      "source": [
        "train.shape,training.shape,test.shape"
      ],
      "metadata": {
        "colab": {
          "base_uri": "https://localhost:8080/"
        },
        "id": "9E0INzQiiVse",
        "outputId": "17e90802-b559-4a36-927f-7eab8ceae28f"
      },
      "execution_count": 215,
      "outputs": [
        {
          "output_type": "execute_result",
          "data": {
            "text/plain": [
              "((6525, 3), (6525, 3), (2610, 2))"
            ]
          },
          "metadata": {},
          "execution_count": 215
        }
      ]
    },
    {
      "cell_type": "code",
      "source": [
        "if train.equals(training):\n",
        "    print(\"The dataframes are equal\")\n",
        "else:\n",
        "    print(\"The dataframes are not equal\")"
      ],
      "metadata": {
        "colab": {
          "base_uri": "https://localhost:8080/"
        },
        "id": "kfKb0-iBiVwz",
        "outputId": "07352bd9-381a-4b44-8fcf-938ba3a0ec44"
      },
      "execution_count": 216,
      "outputs": [
        {
          "output_type": "stream",
          "name": "stdout",
          "text": [
            "The dataframes are equal\n"
          ]
        }
      ]
    },
    {
      "cell_type": "code",
      "source": [
        "test"
      ],
      "metadata": {
        "colab": {
          "base_uri": "https://localhost:8080/",
          "height": 424
        },
        "id": "xbjwLJXiPTuP",
        "outputId": "ce0cba87-27e1-4aa3-c40b-0636a5c429a3"
      },
      "execution_count": 217,
      "outputs": [
        {
          "output_type": "execute_result",
          "data": {
            "text/plain": [
              "                 TweetId                                          TweetText\n",
              "0     306486520121012224  '28. The home side threaten again through Maso...\n",
              "1     286353402605228032  '@mrbrown @aulia Thx for asking. See http://t....\n",
              "2     289531046037438464  '@Sochi2014 construction along the shores of t...\n",
              "3     306451661403062273  '#SecKerry\\u2019s remarks after meeting with F...\n",
              "4     297941800658812928  'The #IPLauction has begun. Ricky Ponting is t...\n",
              "...                  ...                                                ...\n",
              "2605  282023761044189184  'Qualifier 1 and Eliminator games will be play...\n",
              "2606  303879735006601216  @reesedward Hi Edward, it's not a #peacekeepin...\n",
              "2607  297956846046703616  'Perera was @SunRisersIPL first #IPL purchase ...\n",
              "2608  304265049537658880  '#SecKerry: Thanks to Senator @TimKaine, @RepR...\n",
              "2609  306430391928115200  Here's a picture from our official Pinterest a...\n",
              "\n",
              "[2610 rows x 2 columns]"
            ],
            "text/html": [
              "\n",
              "  <div id=\"df-0b9fc439-812e-404f-914d-bc49869905d9\" class=\"colab-df-container\">\n",
              "    <div>\n",
              "<style scoped>\n",
              "    .dataframe tbody tr th:only-of-type {\n",
              "        vertical-align: middle;\n",
              "    }\n",
              "\n",
              "    .dataframe tbody tr th {\n",
              "        vertical-align: top;\n",
              "    }\n",
              "\n",
              "    .dataframe thead th {\n",
              "        text-align: right;\n",
              "    }\n",
              "</style>\n",
              "<table border=\"1\" class=\"dataframe\">\n",
              "  <thead>\n",
              "    <tr style=\"text-align: right;\">\n",
              "      <th></th>\n",
              "      <th>TweetId</th>\n",
              "      <th>TweetText</th>\n",
              "    </tr>\n",
              "  </thead>\n",
              "  <tbody>\n",
              "    <tr>\n",
              "      <th>0</th>\n",
              "      <td>306486520121012224</td>\n",
              "      <td>'28. The home side threaten again through Maso...</td>\n",
              "    </tr>\n",
              "    <tr>\n",
              "      <th>1</th>\n",
              "      <td>286353402605228032</td>\n",
              "      <td>'@mrbrown @aulia Thx for asking. See http://t....</td>\n",
              "    </tr>\n",
              "    <tr>\n",
              "      <th>2</th>\n",
              "      <td>289531046037438464</td>\n",
              "      <td>'@Sochi2014 construction along the shores of t...</td>\n",
              "    </tr>\n",
              "    <tr>\n",
              "      <th>3</th>\n",
              "      <td>306451661403062273</td>\n",
              "      <td>'#SecKerry\\u2019s remarks after meeting with F...</td>\n",
              "    </tr>\n",
              "    <tr>\n",
              "      <th>4</th>\n",
              "      <td>297941800658812928</td>\n",
              "      <td>'The #IPLauction has begun. Ricky Ponting is t...</td>\n",
              "    </tr>\n",
              "    <tr>\n",
              "      <th>...</th>\n",
              "      <td>...</td>\n",
              "      <td>...</td>\n",
              "    </tr>\n",
              "    <tr>\n",
              "      <th>2605</th>\n",
              "      <td>282023761044189184</td>\n",
              "      <td>'Qualifier 1 and Eliminator games will be play...</td>\n",
              "    </tr>\n",
              "    <tr>\n",
              "      <th>2606</th>\n",
              "      <td>303879735006601216</td>\n",
              "      <td>@reesedward Hi Edward, it's not a #peacekeepin...</td>\n",
              "    </tr>\n",
              "    <tr>\n",
              "      <th>2607</th>\n",
              "      <td>297956846046703616</td>\n",
              "      <td>'Perera was @SunRisersIPL first #IPL purchase ...</td>\n",
              "    </tr>\n",
              "    <tr>\n",
              "      <th>2608</th>\n",
              "      <td>304265049537658880</td>\n",
              "      <td>'#SecKerry: Thanks to Senator @TimKaine, @RepR...</td>\n",
              "    </tr>\n",
              "    <tr>\n",
              "      <th>2609</th>\n",
              "      <td>306430391928115200</td>\n",
              "      <td>Here's a picture from our official Pinterest a...</td>\n",
              "    </tr>\n",
              "  </tbody>\n",
              "</table>\n",
              "<p>2610 rows × 2 columns</p>\n",
              "</div>\n",
              "    <div class=\"colab-df-buttons\">\n",
              "\n",
              "  <div class=\"colab-df-container\">\n",
              "    <button class=\"colab-df-convert\" onclick=\"convertToInteractive('df-0b9fc439-812e-404f-914d-bc49869905d9')\"\n",
              "            title=\"Convert this dataframe to an interactive table.\"\n",
              "            style=\"display:none;\">\n",
              "\n",
              "  <svg xmlns=\"http://www.w3.org/2000/svg\" height=\"24px\" viewBox=\"0 -960 960 960\">\n",
              "    <path d=\"M120-120v-720h720v720H120Zm60-500h600v-160H180v160Zm220 220h160v-160H400v160Zm0 220h160v-160H400v160ZM180-400h160v-160H180v160Zm440 0h160v-160H620v160ZM180-180h160v-160H180v160Zm440 0h160v-160H620v160Z\"/>\n",
              "  </svg>\n",
              "    </button>\n",
              "\n",
              "  <style>\n",
              "    .colab-df-container {\n",
              "      display:flex;\n",
              "      gap: 12px;\n",
              "    }\n",
              "\n",
              "    .colab-df-convert {\n",
              "      background-color: #E8F0FE;\n",
              "      border: none;\n",
              "      border-radius: 50%;\n",
              "      cursor: pointer;\n",
              "      display: none;\n",
              "      fill: #1967D2;\n",
              "      height: 32px;\n",
              "      padding: 0 0 0 0;\n",
              "      width: 32px;\n",
              "    }\n",
              "\n",
              "    .colab-df-convert:hover {\n",
              "      background-color: #E2EBFA;\n",
              "      box-shadow: 0px 1px 2px rgba(60, 64, 67, 0.3), 0px 1px 3px 1px rgba(60, 64, 67, 0.15);\n",
              "      fill: #174EA6;\n",
              "    }\n",
              "\n",
              "    .colab-df-buttons div {\n",
              "      margin-bottom: 4px;\n",
              "    }\n",
              "\n",
              "    [theme=dark] .colab-df-convert {\n",
              "      background-color: #3B4455;\n",
              "      fill: #D2E3FC;\n",
              "    }\n",
              "\n",
              "    [theme=dark] .colab-df-convert:hover {\n",
              "      background-color: #434B5C;\n",
              "      box-shadow: 0px 1px 3px 1px rgba(0, 0, 0, 0.15);\n",
              "      filter: drop-shadow(0px 1px 2px rgba(0, 0, 0, 0.3));\n",
              "      fill: #FFFFFF;\n",
              "    }\n",
              "  </style>\n",
              "\n",
              "    <script>\n",
              "      const buttonEl =\n",
              "        document.querySelector('#df-0b9fc439-812e-404f-914d-bc49869905d9 button.colab-df-convert');\n",
              "      buttonEl.style.display =\n",
              "        google.colab.kernel.accessAllowed ? 'block' : 'none';\n",
              "\n",
              "      async function convertToInteractive(key) {\n",
              "        const element = document.querySelector('#df-0b9fc439-812e-404f-914d-bc49869905d9');\n",
              "        const dataTable =\n",
              "          await google.colab.kernel.invokeFunction('convertToInteractive',\n",
              "                                                    [key], {});\n",
              "        if (!dataTable) return;\n",
              "\n",
              "        const docLinkHtml = 'Like what you see? Visit the ' +\n",
              "          '<a target=\"_blank\" href=https://colab.research.google.com/notebooks/data_table.ipynb>data table notebook</a>'\n",
              "          + ' to learn more about interactive tables.';\n",
              "        element.innerHTML = '';\n",
              "        dataTable['output_type'] = 'display_data';\n",
              "        await google.colab.output.renderOutput(dataTable, element);\n",
              "        const docLink = document.createElement('div');\n",
              "        docLink.innerHTML = docLinkHtml;\n",
              "        element.appendChild(docLink);\n",
              "      }\n",
              "    </script>\n",
              "  </div>\n",
              "\n",
              "\n",
              "<div id=\"df-cf8fb7db-481a-4023-bc67-f8951fc536e1\">\n",
              "  <button class=\"colab-df-quickchart\" onclick=\"quickchart('df-cf8fb7db-481a-4023-bc67-f8951fc536e1')\"\n",
              "            title=\"Suggest charts\"\n",
              "            style=\"display:none;\">\n",
              "\n",
              "<svg xmlns=\"http://www.w3.org/2000/svg\" height=\"24px\"viewBox=\"0 0 24 24\"\n",
              "     width=\"24px\">\n",
              "    <g>\n",
              "        <path d=\"M19 3H5c-1.1 0-2 .9-2 2v14c0 1.1.9 2 2 2h14c1.1 0 2-.9 2-2V5c0-1.1-.9-2-2-2zM9 17H7v-7h2v7zm4 0h-2V7h2v10zm4 0h-2v-4h2v4z\"/>\n",
              "    </g>\n",
              "</svg>\n",
              "  </button>\n",
              "\n",
              "<style>\n",
              "  .colab-df-quickchart {\n",
              "      --bg-color: #E8F0FE;\n",
              "      --fill-color: #1967D2;\n",
              "      --hover-bg-color: #E2EBFA;\n",
              "      --hover-fill-color: #174EA6;\n",
              "      --disabled-fill-color: #AAA;\n",
              "      --disabled-bg-color: #DDD;\n",
              "  }\n",
              "\n",
              "  [theme=dark] .colab-df-quickchart {\n",
              "      --bg-color: #3B4455;\n",
              "      --fill-color: #D2E3FC;\n",
              "      --hover-bg-color: #434B5C;\n",
              "      --hover-fill-color: #FFFFFF;\n",
              "      --disabled-bg-color: #3B4455;\n",
              "      --disabled-fill-color: #666;\n",
              "  }\n",
              "\n",
              "  .colab-df-quickchart {\n",
              "    background-color: var(--bg-color);\n",
              "    border: none;\n",
              "    border-radius: 50%;\n",
              "    cursor: pointer;\n",
              "    display: none;\n",
              "    fill: var(--fill-color);\n",
              "    height: 32px;\n",
              "    padding: 0;\n",
              "    width: 32px;\n",
              "  }\n",
              "\n",
              "  .colab-df-quickchart:hover {\n",
              "    background-color: var(--hover-bg-color);\n",
              "    box-shadow: 0 1px 2px rgba(60, 64, 67, 0.3), 0 1px 3px 1px rgba(60, 64, 67, 0.15);\n",
              "    fill: var(--button-hover-fill-color);\n",
              "  }\n",
              "\n",
              "  .colab-df-quickchart-complete:disabled,\n",
              "  .colab-df-quickchart-complete:disabled:hover {\n",
              "    background-color: var(--disabled-bg-color);\n",
              "    fill: var(--disabled-fill-color);\n",
              "    box-shadow: none;\n",
              "  }\n",
              "\n",
              "  .colab-df-spinner {\n",
              "    border: 2px solid var(--fill-color);\n",
              "    border-color: transparent;\n",
              "    border-bottom-color: var(--fill-color);\n",
              "    animation:\n",
              "      spin 1s steps(1) infinite;\n",
              "  }\n",
              "\n",
              "  @keyframes spin {\n",
              "    0% {\n",
              "      border-color: transparent;\n",
              "      border-bottom-color: var(--fill-color);\n",
              "      border-left-color: var(--fill-color);\n",
              "    }\n",
              "    20% {\n",
              "      border-color: transparent;\n",
              "      border-left-color: var(--fill-color);\n",
              "      border-top-color: var(--fill-color);\n",
              "    }\n",
              "    30% {\n",
              "      border-color: transparent;\n",
              "      border-left-color: var(--fill-color);\n",
              "      border-top-color: var(--fill-color);\n",
              "      border-right-color: var(--fill-color);\n",
              "    }\n",
              "    40% {\n",
              "      border-color: transparent;\n",
              "      border-right-color: var(--fill-color);\n",
              "      border-top-color: var(--fill-color);\n",
              "    }\n",
              "    60% {\n",
              "      border-color: transparent;\n",
              "      border-right-color: var(--fill-color);\n",
              "    }\n",
              "    80% {\n",
              "      border-color: transparent;\n",
              "      border-right-color: var(--fill-color);\n",
              "      border-bottom-color: var(--fill-color);\n",
              "    }\n",
              "    90% {\n",
              "      border-color: transparent;\n",
              "      border-bottom-color: var(--fill-color);\n",
              "    }\n",
              "  }\n",
              "</style>\n",
              "\n",
              "  <script>\n",
              "    async function quickchart(key) {\n",
              "      const quickchartButtonEl =\n",
              "        document.querySelector('#' + key + ' button');\n",
              "      quickchartButtonEl.disabled = true;  // To prevent multiple clicks.\n",
              "      quickchartButtonEl.classList.add('colab-df-spinner');\n",
              "      try {\n",
              "        const charts = await google.colab.kernel.invokeFunction(\n",
              "            'suggestCharts', [key], {});\n",
              "      } catch (error) {\n",
              "        console.error('Error during call to suggestCharts:', error);\n",
              "      }\n",
              "      quickchartButtonEl.classList.remove('colab-df-spinner');\n",
              "      quickchartButtonEl.classList.add('colab-df-quickchart-complete');\n",
              "    }\n",
              "    (() => {\n",
              "      let quickchartButtonEl =\n",
              "        document.querySelector('#df-cf8fb7db-481a-4023-bc67-f8951fc536e1 button');\n",
              "      quickchartButtonEl.style.display =\n",
              "        google.colab.kernel.accessAllowed ? 'block' : 'none';\n",
              "    })();\n",
              "  </script>\n",
              "</div>\n",
              "\n",
              "  <div id=\"id_22e31097-0620-4186-a885-6916ec0b713f\">\n",
              "    <style>\n",
              "      .colab-df-generate {\n",
              "        background-color: #E8F0FE;\n",
              "        border: none;\n",
              "        border-radius: 50%;\n",
              "        cursor: pointer;\n",
              "        display: none;\n",
              "        fill: #1967D2;\n",
              "        height: 32px;\n",
              "        padding: 0 0 0 0;\n",
              "        width: 32px;\n",
              "      }\n",
              "\n",
              "      .colab-df-generate:hover {\n",
              "        background-color: #E2EBFA;\n",
              "        box-shadow: 0px 1px 2px rgba(60, 64, 67, 0.3), 0px 1px 3px 1px rgba(60, 64, 67, 0.15);\n",
              "        fill: #174EA6;\n",
              "      }\n",
              "\n",
              "      [theme=dark] .colab-df-generate {\n",
              "        background-color: #3B4455;\n",
              "        fill: #D2E3FC;\n",
              "      }\n",
              "\n",
              "      [theme=dark] .colab-df-generate:hover {\n",
              "        background-color: #434B5C;\n",
              "        box-shadow: 0px 1px 3px 1px rgba(0, 0, 0, 0.15);\n",
              "        filter: drop-shadow(0px 1px 2px rgba(0, 0, 0, 0.3));\n",
              "        fill: #FFFFFF;\n",
              "      }\n",
              "    </style>\n",
              "    <button class=\"colab-df-generate\" onclick=\"generateWithVariable('test')\"\n",
              "            title=\"Generate code using this dataframe.\"\n",
              "            style=\"display:none;\">\n",
              "\n",
              "  <svg xmlns=\"http://www.w3.org/2000/svg\" height=\"24px\"viewBox=\"0 0 24 24\"\n",
              "       width=\"24px\">\n",
              "    <path d=\"M7,19H8.4L18.45,9,17,7.55,7,17.6ZM5,21V16.75L18.45,3.32a2,2,0,0,1,2.83,0l1.4,1.43a1.91,1.91,0,0,1,.58,1.4,1.91,1.91,0,0,1-.58,1.4L9.25,21ZM18.45,9,17,7.55Zm-12,3A5.31,5.31,0,0,0,4.9,8.1,5.31,5.31,0,0,0,1,6.5,5.31,5.31,0,0,0,4.9,4.9,5.31,5.31,0,0,0,6.5,1,5.31,5.31,0,0,0,8.1,4.9,5.31,5.31,0,0,0,12,6.5,5.46,5.46,0,0,0,6.5,12Z\"/>\n",
              "  </svg>\n",
              "    </button>\n",
              "    <script>\n",
              "      (() => {\n",
              "      const buttonEl =\n",
              "        document.querySelector('#id_22e31097-0620-4186-a885-6916ec0b713f button.colab-df-generate');\n",
              "      buttonEl.style.display =\n",
              "        google.colab.kernel.accessAllowed ? 'block' : 'none';\n",
              "\n",
              "      buttonEl.onclick = () => {\n",
              "        google.colab.notebook.generateWithVariable('test');\n",
              "      }\n",
              "      })();\n",
              "    </script>\n",
              "  </div>\n",
              "\n",
              "    </div>\n",
              "  </div>\n"
            ],
            "application/vnd.google.colaboratory.intrinsic+json": {
              "type": "dataframe",
              "variable_name": "test",
              "summary": "{\n  \"name\": \"test\",\n  \"rows\": 2610,\n  \"fields\": [\n    {\n      \"column\": \"TweetId\",\n      \"properties\": {\n        \"dtype\": \"number\",\n        \"std\": 68440362775183832,\n        \"min\": 2320824247,\n        \"max\": 306833722072788992,\n        \"num_unique_values\": 2610,\n        \"samples\": [\n          306531355225890817,\n          285792266839281664,\n          302578537133662208\n        ],\n        \"semantic_type\": \"\",\n        \"description\": \"\"\n      }\n    },\n    {\n      \"column\": \"TweetText\",\n      \"properties\": {\n        \"dtype\": \"string\",\n        \"num_unique_values\": 2598,\n        \"samples\": [\n          \"'@cherrythegreat anyways go for python, easy place to start and its pretty usefull :)'\",\n          \"'Yeah, Embassy Singapore is open today. #happynewyear'\",\n          \"'#Peacekeeping retains a long track record of adaptation &amp; change that has yielded important successes. --Ladsous'\"\n        ],\n        \"semantic_type\": \"\",\n        \"description\": \"\"\n      }\n    }\n  ]\n}"
            }
          },
          "metadata": {},
          "execution_count": 217
        }
      ]
    },
    {
      "cell_type": "markdown",
      "source": [
        "We have two datasets that contain the same data, so we are just going to use one of them. In our case we are going to use the \"train\" dataset."
      ],
      "metadata": {
        "id": "CC4UKeeui6cm"
      }
    },
    {
      "cell_type": "code",
      "source": [
        "train"
      ],
      "metadata": {
        "colab": {
          "base_uri": "https://localhost:8080/",
          "height": 424
        },
        "id": "UDvM-FdDiV1B",
        "outputId": "8676bbc0-4911-4640-fba6-b9089a5e6389"
      },
      "execution_count": 218,
      "outputs": [
        {
          "output_type": "execute_result",
          "data": {
            "text/plain": [
              "                 TweetId     Label  \\\n",
              "0     304271250237304833  Politics   \n",
              "1     304834304222064640  Politics   \n",
              "2     303568995880144898    Sports   \n",
              "3     304366580664528896    Sports   \n",
              "4     296770931098009601    Sports   \n",
              "...                  ...       ...   \n",
              "6520  296675082267410433  Politics   \n",
              "6521  306677536195231746    Sports   \n",
              "6522  306451295307431937    Sports   \n",
              "6523  306088574221176832    Sports   \n",
              "6524  277090953242759169  Politics   \n",
              "\n",
              "                                              TweetText  \n",
              "0     '#SecKerry: The value of the @StateDept and @U...  \n",
              "1                               '@rraina1481 I fear so'  \n",
              "2     'Watch video highlights of the #wwc13 final be...  \n",
              "3     'RT @chelscanlan: At Nitro Circus at #AlbertPa...  \n",
              "4     '@cricketfox Always a good thing. Thanks for t...  \n",
              "...                                                 ...  \n",
              "6520  'Photo: PM has laid a wreath at Martyrs Monume...  \n",
              "6521  'The secret of the Chennai pitch - crumbling o...  \n",
              "6522            @alinabhutto he isn't on Twitter either  \n",
              "6523  'Which England player would you take out to di...  \n",
              "6524  'Dmitry #Medvedev expressed condolences to the...  \n",
              "\n",
              "[6525 rows x 3 columns]"
            ],
            "text/html": [
              "\n",
              "  <div id=\"df-10c86d4d-303a-404b-a99a-5b90787a7b50\" class=\"colab-df-container\">\n",
              "    <div>\n",
              "<style scoped>\n",
              "    .dataframe tbody tr th:only-of-type {\n",
              "        vertical-align: middle;\n",
              "    }\n",
              "\n",
              "    .dataframe tbody tr th {\n",
              "        vertical-align: top;\n",
              "    }\n",
              "\n",
              "    .dataframe thead th {\n",
              "        text-align: right;\n",
              "    }\n",
              "</style>\n",
              "<table border=\"1\" class=\"dataframe\">\n",
              "  <thead>\n",
              "    <tr style=\"text-align: right;\">\n",
              "      <th></th>\n",
              "      <th>TweetId</th>\n",
              "      <th>Label</th>\n",
              "      <th>TweetText</th>\n",
              "    </tr>\n",
              "  </thead>\n",
              "  <tbody>\n",
              "    <tr>\n",
              "      <th>0</th>\n",
              "      <td>304271250237304833</td>\n",
              "      <td>Politics</td>\n",
              "      <td>'#SecKerry: The value of the @StateDept and @U...</td>\n",
              "    </tr>\n",
              "    <tr>\n",
              "      <th>1</th>\n",
              "      <td>304834304222064640</td>\n",
              "      <td>Politics</td>\n",
              "      <td>'@rraina1481 I fear so'</td>\n",
              "    </tr>\n",
              "    <tr>\n",
              "      <th>2</th>\n",
              "      <td>303568995880144898</td>\n",
              "      <td>Sports</td>\n",
              "      <td>'Watch video highlights of the #wwc13 final be...</td>\n",
              "    </tr>\n",
              "    <tr>\n",
              "      <th>3</th>\n",
              "      <td>304366580664528896</td>\n",
              "      <td>Sports</td>\n",
              "      <td>'RT @chelscanlan: At Nitro Circus at #AlbertPa...</td>\n",
              "    </tr>\n",
              "    <tr>\n",
              "      <th>4</th>\n",
              "      <td>296770931098009601</td>\n",
              "      <td>Sports</td>\n",
              "      <td>'@cricketfox Always a good thing. Thanks for t...</td>\n",
              "    </tr>\n",
              "    <tr>\n",
              "      <th>...</th>\n",
              "      <td>...</td>\n",
              "      <td>...</td>\n",
              "      <td>...</td>\n",
              "    </tr>\n",
              "    <tr>\n",
              "      <th>6520</th>\n",
              "      <td>296675082267410433</td>\n",
              "      <td>Politics</td>\n",
              "      <td>'Photo: PM has laid a wreath at Martyrs Monume...</td>\n",
              "    </tr>\n",
              "    <tr>\n",
              "      <th>6521</th>\n",
              "      <td>306677536195231746</td>\n",
              "      <td>Sports</td>\n",
              "      <td>'The secret of the Chennai pitch - crumbling o...</td>\n",
              "    </tr>\n",
              "    <tr>\n",
              "      <th>6522</th>\n",
              "      <td>306451295307431937</td>\n",
              "      <td>Sports</td>\n",
              "      <td>@alinabhutto he isn't on Twitter either</td>\n",
              "    </tr>\n",
              "    <tr>\n",
              "      <th>6523</th>\n",
              "      <td>306088574221176832</td>\n",
              "      <td>Sports</td>\n",
              "      <td>'Which England player would you take out to di...</td>\n",
              "    </tr>\n",
              "    <tr>\n",
              "      <th>6524</th>\n",
              "      <td>277090953242759169</td>\n",
              "      <td>Politics</td>\n",
              "      <td>'Dmitry #Medvedev expressed condolences to the...</td>\n",
              "    </tr>\n",
              "  </tbody>\n",
              "</table>\n",
              "<p>6525 rows × 3 columns</p>\n",
              "</div>\n",
              "    <div class=\"colab-df-buttons\">\n",
              "\n",
              "  <div class=\"colab-df-container\">\n",
              "    <button class=\"colab-df-convert\" onclick=\"convertToInteractive('df-10c86d4d-303a-404b-a99a-5b90787a7b50')\"\n",
              "            title=\"Convert this dataframe to an interactive table.\"\n",
              "            style=\"display:none;\">\n",
              "\n",
              "  <svg xmlns=\"http://www.w3.org/2000/svg\" height=\"24px\" viewBox=\"0 -960 960 960\">\n",
              "    <path d=\"M120-120v-720h720v720H120Zm60-500h600v-160H180v160Zm220 220h160v-160H400v160Zm0 220h160v-160H400v160ZM180-400h160v-160H180v160Zm440 0h160v-160H620v160ZM180-180h160v-160H180v160Zm440 0h160v-160H620v160Z\"/>\n",
              "  </svg>\n",
              "    </button>\n",
              "\n",
              "  <style>\n",
              "    .colab-df-container {\n",
              "      display:flex;\n",
              "      gap: 12px;\n",
              "    }\n",
              "\n",
              "    .colab-df-convert {\n",
              "      background-color: #E8F0FE;\n",
              "      border: none;\n",
              "      border-radius: 50%;\n",
              "      cursor: pointer;\n",
              "      display: none;\n",
              "      fill: #1967D2;\n",
              "      height: 32px;\n",
              "      padding: 0 0 0 0;\n",
              "      width: 32px;\n",
              "    }\n",
              "\n",
              "    .colab-df-convert:hover {\n",
              "      background-color: #E2EBFA;\n",
              "      box-shadow: 0px 1px 2px rgba(60, 64, 67, 0.3), 0px 1px 3px 1px rgba(60, 64, 67, 0.15);\n",
              "      fill: #174EA6;\n",
              "    }\n",
              "\n",
              "    .colab-df-buttons div {\n",
              "      margin-bottom: 4px;\n",
              "    }\n",
              "\n",
              "    [theme=dark] .colab-df-convert {\n",
              "      background-color: #3B4455;\n",
              "      fill: #D2E3FC;\n",
              "    }\n",
              "\n",
              "    [theme=dark] .colab-df-convert:hover {\n",
              "      background-color: #434B5C;\n",
              "      box-shadow: 0px 1px 3px 1px rgba(0, 0, 0, 0.15);\n",
              "      filter: drop-shadow(0px 1px 2px rgba(0, 0, 0, 0.3));\n",
              "      fill: #FFFFFF;\n",
              "    }\n",
              "  </style>\n",
              "\n",
              "    <script>\n",
              "      const buttonEl =\n",
              "        document.querySelector('#df-10c86d4d-303a-404b-a99a-5b90787a7b50 button.colab-df-convert');\n",
              "      buttonEl.style.display =\n",
              "        google.colab.kernel.accessAllowed ? 'block' : 'none';\n",
              "\n",
              "      async function convertToInteractive(key) {\n",
              "        const element = document.querySelector('#df-10c86d4d-303a-404b-a99a-5b90787a7b50');\n",
              "        const dataTable =\n",
              "          await google.colab.kernel.invokeFunction('convertToInteractive',\n",
              "                                                    [key], {});\n",
              "        if (!dataTable) return;\n",
              "\n",
              "        const docLinkHtml = 'Like what you see? Visit the ' +\n",
              "          '<a target=\"_blank\" href=https://colab.research.google.com/notebooks/data_table.ipynb>data table notebook</a>'\n",
              "          + ' to learn more about interactive tables.';\n",
              "        element.innerHTML = '';\n",
              "        dataTable['output_type'] = 'display_data';\n",
              "        await google.colab.output.renderOutput(dataTable, element);\n",
              "        const docLink = document.createElement('div');\n",
              "        docLink.innerHTML = docLinkHtml;\n",
              "        element.appendChild(docLink);\n",
              "      }\n",
              "    </script>\n",
              "  </div>\n",
              "\n",
              "\n",
              "<div id=\"df-a3eb66ef-c16e-4e50-ae85-2605d7ef5445\">\n",
              "  <button class=\"colab-df-quickchart\" onclick=\"quickchart('df-a3eb66ef-c16e-4e50-ae85-2605d7ef5445')\"\n",
              "            title=\"Suggest charts\"\n",
              "            style=\"display:none;\">\n",
              "\n",
              "<svg xmlns=\"http://www.w3.org/2000/svg\" height=\"24px\"viewBox=\"0 0 24 24\"\n",
              "     width=\"24px\">\n",
              "    <g>\n",
              "        <path d=\"M19 3H5c-1.1 0-2 .9-2 2v14c0 1.1.9 2 2 2h14c1.1 0 2-.9 2-2V5c0-1.1-.9-2-2-2zM9 17H7v-7h2v7zm4 0h-2V7h2v10zm4 0h-2v-4h2v4z\"/>\n",
              "    </g>\n",
              "</svg>\n",
              "  </button>\n",
              "\n",
              "<style>\n",
              "  .colab-df-quickchart {\n",
              "      --bg-color: #E8F0FE;\n",
              "      --fill-color: #1967D2;\n",
              "      --hover-bg-color: #E2EBFA;\n",
              "      --hover-fill-color: #174EA6;\n",
              "      --disabled-fill-color: #AAA;\n",
              "      --disabled-bg-color: #DDD;\n",
              "  }\n",
              "\n",
              "  [theme=dark] .colab-df-quickchart {\n",
              "      --bg-color: #3B4455;\n",
              "      --fill-color: #D2E3FC;\n",
              "      --hover-bg-color: #434B5C;\n",
              "      --hover-fill-color: #FFFFFF;\n",
              "      --disabled-bg-color: #3B4455;\n",
              "      --disabled-fill-color: #666;\n",
              "  }\n",
              "\n",
              "  .colab-df-quickchart {\n",
              "    background-color: var(--bg-color);\n",
              "    border: none;\n",
              "    border-radius: 50%;\n",
              "    cursor: pointer;\n",
              "    display: none;\n",
              "    fill: var(--fill-color);\n",
              "    height: 32px;\n",
              "    padding: 0;\n",
              "    width: 32px;\n",
              "  }\n",
              "\n",
              "  .colab-df-quickchart:hover {\n",
              "    background-color: var(--hover-bg-color);\n",
              "    box-shadow: 0 1px 2px rgba(60, 64, 67, 0.3), 0 1px 3px 1px rgba(60, 64, 67, 0.15);\n",
              "    fill: var(--button-hover-fill-color);\n",
              "  }\n",
              "\n",
              "  .colab-df-quickchart-complete:disabled,\n",
              "  .colab-df-quickchart-complete:disabled:hover {\n",
              "    background-color: var(--disabled-bg-color);\n",
              "    fill: var(--disabled-fill-color);\n",
              "    box-shadow: none;\n",
              "  }\n",
              "\n",
              "  .colab-df-spinner {\n",
              "    border: 2px solid var(--fill-color);\n",
              "    border-color: transparent;\n",
              "    border-bottom-color: var(--fill-color);\n",
              "    animation:\n",
              "      spin 1s steps(1) infinite;\n",
              "  }\n",
              "\n",
              "  @keyframes spin {\n",
              "    0% {\n",
              "      border-color: transparent;\n",
              "      border-bottom-color: var(--fill-color);\n",
              "      border-left-color: var(--fill-color);\n",
              "    }\n",
              "    20% {\n",
              "      border-color: transparent;\n",
              "      border-left-color: var(--fill-color);\n",
              "      border-top-color: var(--fill-color);\n",
              "    }\n",
              "    30% {\n",
              "      border-color: transparent;\n",
              "      border-left-color: var(--fill-color);\n",
              "      border-top-color: var(--fill-color);\n",
              "      border-right-color: var(--fill-color);\n",
              "    }\n",
              "    40% {\n",
              "      border-color: transparent;\n",
              "      border-right-color: var(--fill-color);\n",
              "      border-top-color: var(--fill-color);\n",
              "    }\n",
              "    60% {\n",
              "      border-color: transparent;\n",
              "      border-right-color: var(--fill-color);\n",
              "    }\n",
              "    80% {\n",
              "      border-color: transparent;\n",
              "      border-right-color: var(--fill-color);\n",
              "      border-bottom-color: var(--fill-color);\n",
              "    }\n",
              "    90% {\n",
              "      border-color: transparent;\n",
              "      border-bottom-color: var(--fill-color);\n",
              "    }\n",
              "  }\n",
              "</style>\n",
              "\n",
              "  <script>\n",
              "    async function quickchart(key) {\n",
              "      const quickchartButtonEl =\n",
              "        document.querySelector('#' + key + ' button');\n",
              "      quickchartButtonEl.disabled = true;  // To prevent multiple clicks.\n",
              "      quickchartButtonEl.classList.add('colab-df-spinner');\n",
              "      try {\n",
              "        const charts = await google.colab.kernel.invokeFunction(\n",
              "            'suggestCharts', [key], {});\n",
              "      } catch (error) {\n",
              "        console.error('Error during call to suggestCharts:', error);\n",
              "      }\n",
              "      quickchartButtonEl.classList.remove('colab-df-spinner');\n",
              "      quickchartButtonEl.classList.add('colab-df-quickchart-complete');\n",
              "    }\n",
              "    (() => {\n",
              "      let quickchartButtonEl =\n",
              "        document.querySelector('#df-a3eb66ef-c16e-4e50-ae85-2605d7ef5445 button');\n",
              "      quickchartButtonEl.style.display =\n",
              "        google.colab.kernel.accessAllowed ? 'block' : 'none';\n",
              "    })();\n",
              "  </script>\n",
              "</div>\n",
              "\n",
              "  <div id=\"id_ec8c0560-53ad-49c6-8f16-405baf314a1c\">\n",
              "    <style>\n",
              "      .colab-df-generate {\n",
              "        background-color: #E8F0FE;\n",
              "        border: none;\n",
              "        border-radius: 50%;\n",
              "        cursor: pointer;\n",
              "        display: none;\n",
              "        fill: #1967D2;\n",
              "        height: 32px;\n",
              "        padding: 0 0 0 0;\n",
              "        width: 32px;\n",
              "      }\n",
              "\n",
              "      .colab-df-generate:hover {\n",
              "        background-color: #E2EBFA;\n",
              "        box-shadow: 0px 1px 2px rgba(60, 64, 67, 0.3), 0px 1px 3px 1px rgba(60, 64, 67, 0.15);\n",
              "        fill: #174EA6;\n",
              "      }\n",
              "\n",
              "      [theme=dark] .colab-df-generate {\n",
              "        background-color: #3B4455;\n",
              "        fill: #D2E3FC;\n",
              "      }\n",
              "\n",
              "      [theme=dark] .colab-df-generate:hover {\n",
              "        background-color: #434B5C;\n",
              "        box-shadow: 0px 1px 3px 1px rgba(0, 0, 0, 0.15);\n",
              "        filter: drop-shadow(0px 1px 2px rgba(0, 0, 0, 0.3));\n",
              "        fill: #FFFFFF;\n",
              "      }\n",
              "    </style>\n",
              "    <button class=\"colab-df-generate\" onclick=\"generateWithVariable('train')\"\n",
              "            title=\"Generate code using this dataframe.\"\n",
              "            style=\"display:none;\">\n",
              "\n",
              "  <svg xmlns=\"http://www.w3.org/2000/svg\" height=\"24px\"viewBox=\"0 0 24 24\"\n",
              "       width=\"24px\">\n",
              "    <path d=\"M7,19H8.4L18.45,9,17,7.55,7,17.6ZM5,21V16.75L18.45,3.32a2,2,0,0,1,2.83,0l1.4,1.43a1.91,1.91,0,0,1,.58,1.4,1.91,1.91,0,0,1-.58,1.4L9.25,21ZM18.45,9,17,7.55Zm-12,3A5.31,5.31,0,0,0,4.9,8.1,5.31,5.31,0,0,0,1,6.5,5.31,5.31,0,0,0,4.9,4.9,5.31,5.31,0,0,0,6.5,1,5.31,5.31,0,0,0,8.1,4.9,5.31,5.31,0,0,0,12,6.5,5.46,5.46,0,0,0,6.5,12Z\"/>\n",
              "  </svg>\n",
              "    </button>\n",
              "    <script>\n",
              "      (() => {\n",
              "      const buttonEl =\n",
              "        document.querySelector('#id_ec8c0560-53ad-49c6-8f16-405baf314a1c button.colab-df-generate');\n",
              "      buttonEl.style.display =\n",
              "        google.colab.kernel.accessAllowed ? 'block' : 'none';\n",
              "\n",
              "      buttonEl.onclick = () => {\n",
              "        google.colab.notebook.generateWithVariable('train');\n",
              "      }\n",
              "      })();\n",
              "    </script>\n",
              "  </div>\n",
              "\n",
              "    </div>\n",
              "  </div>\n"
            ],
            "application/vnd.google.colaboratory.intrinsic+json": {
              "type": "dataframe",
              "variable_name": "train",
              "summary": "{\n  \"name\": \"train\",\n  \"rows\": 6525,\n  \"fields\": [\n    {\n      \"column\": \"TweetId\",\n      \"properties\": {\n        \"dtype\": \"number\",\n        \"std\": 51398190539813376,\n        \"min\": 23909305792,\n        \"max\": 306834146813169667,\n        \"num_unique_values\": 6525,\n        \"samples\": [\n          304591158921818113,\n          305937398846607360,\n          304094994950672384\n        ],\n        \"semantic_type\": \"\",\n        \"description\": \"\"\n      }\n    },\n    {\n      \"column\": \"Label\",\n      \"properties\": {\n        \"dtype\": \"category\",\n        \"num_unique_values\": 2,\n        \"samples\": [\n          \"Sports\",\n          \"Politics\"\n        ],\n        \"semantic_type\": \"\",\n        \"description\": \"\"\n      }\n    },\n    {\n      \"column\": \"TweetText\",\n      \"properties\": {\n        \"dtype\": \"string\",\n        \"num_unique_values\": 6508,\n        \"samples\": [\n          \"'Looks like #Blackpool Manager, Ian Holloway is saving some money from his budget to spend in January.'\",\n          \"'Late night debates at @EP_Economics: #EuropeanSemester and derivatives on agenda. Tune in at 10pm CET http://t.co/UNWHW0g6'\"\n        ],\n        \"semantic_type\": \"\",\n        \"description\": \"\"\n      }\n    }\n  ]\n}"
            }
          },
          "metadata": {},
          "execution_count": 218
        }
      ]
    },
    {
      "cell_type": "code",
      "source": [
        "train.info()"
      ],
      "metadata": {
        "colab": {
          "base_uri": "https://localhost:8080/"
        },
        "id": "WH7jYexDiV5w",
        "outputId": "43fb2195-6348-40cc-9290-0638ad51a58e"
      },
      "execution_count": 219,
      "outputs": [
        {
          "output_type": "stream",
          "name": "stdout",
          "text": [
            "<class 'pandas.core.frame.DataFrame'>\n",
            "RangeIndex: 6525 entries, 0 to 6524\n",
            "Data columns (total 3 columns):\n",
            " #   Column     Non-Null Count  Dtype \n",
            "---  ------     --------------  ----- \n",
            " 0   TweetId    6525 non-null   int64 \n",
            " 1   Label      6525 non-null   object\n",
            " 2   TweetText  6525 non-null   object\n",
            "dtypes: int64(1), object(2)\n",
            "memory usage: 153.1+ KB\n"
          ]
        }
      ]
    },
    {
      "cell_type": "markdown",
      "source": [
        "# Data cleaning and Visualization\n",
        "\n",
        "Let's try to gain insight on how our data is structured by using visualizations."
      ],
      "metadata": {
        "id": "6HesNZ2wjz3k"
      }
    },
    {
      "cell_type": "markdown",
      "source": [
        "## General distribution"
      ],
      "metadata": {
        "id": "YoWB1sjBj3t1"
      }
    },
    {
      "cell_type": "code",
      "source": [
        "temp = train.groupby('Label').count()['TweetText'].reset_index().sort_values(by='TweetText',ascending=False)\n",
        "temp.style.background_gradient(cmap='Blues')"
      ],
      "metadata": {
        "colab": {
          "base_uri": "https://localhost:8080/",
          "height": 112
        },
        "id": "r6qLoGhiiV-X",
        "outputId": "ea2f6b68-6923-4c91-c4e9-bb0f6b21dc6c"
      },
      "execution_count": 220,
      "outputs": [
        {
          "output_type": "execute_result",
          "data": {
            "text/plain": [
              "<pandas.io.formats.style.Styler at 0x7f1e301ded10>"
            ],
            "text/html": [
              "<style type=\"text/css\">\n",
              "#T_24345_row0_col1 {\n",
              "  background-color: #08306b;\n",
              "  color: #f1f1f1;\n",
              "}\n",
              "#T_24345_row1_col1 {\n",
              "  background-color: #f7fbff;\n",
              "  color: #000000;\n",
              "}\n",
              "</style>\n",
              "<table id=\"T_24345\" class=\"dataframe\">\n",
              "  <thead>\n",
              "    <tr>\n",
              "      <th class=\"blank level0\" >&nbsp;</th>\n",
              "      <th id=\"T_24345_level0_col0\" class=\"col_heading level0 col0\" >Label</th>\n",
              "      <th id=\"T_24345_level0_col1\" class=\"col_heading level0 col1\" >TweetText</th>\n",
              "    </tr>\n",
              "  </thead>\n",
              "  <tbody>\n",
              "    <tr>\n",
              "      <th id=\"T_24345_level0_row0\" class=\"row_heading level0 row0\" >1</th>\n",
              "      <td id=\"T_24345_row0_col0\" class=\"data row0 col0\" >Sports</td>\n",
              "      <td id=\"T_24345_row0_col1\" class=\"data row0 col1\" >3325</td>\n",
              "    </tr>\n",
              "    <tr>\n",
              "      <th id=\"T_24345_level0_row1\" class=\"row_heading level0 row1\" >0</th>\n",
              "      <td id=\"T_24345_row1_col0\" class=\"data row1 col0\" >Politics</td>\n",
              "      <td id=\"T_24345_row1_col1\" class=\"data row1 col1\" >3200</td>\n",
              "    </tr>\n",
              "  </tbody>\n",
              "</table>\n"
            ]
          },
          "metadata": {},
          "execution_count": 220
        }
      ]
    },
    {
      "cell_type": "code",
      "source": [
        "plt.figure(figsize=(12,6))\n",
        "sns.countplot(x='Label',data=train)"
      ],
      "metadata": {
        "colab": {
          "base_uri": "https://localhost:8080/",
          "height": 559
        },
        "id": "Szg1hGCtkAdf",
        "outputId": "980544ab-2fe7-431d-efbe-418963b2de7e"
      },
      "execution_count": 221,
      "outputs": [
        {
          "output_type": "execute_result",
          "data": {
            "text/plain": [
              "<Axes: xlabel='Label', ylabel='count'>"
            ]
          },
          "metadata": {},
          "execution_count": 221
        },
        {
          "output_type": "display_data",
          "data": {
            "text/plain": [
              "<Figure size 1200x600 with 1 Axes>"
            ],
            "image/png": "[encoded data removed]"
          },
          "metadata": {}
        }
      ]
    },
    {
      "cell_type": "markdown",
      "source": [
        "The distribution of topics amoing the tweets in the train set is almost perfectly balanced."
      ],
      "metadata": {
        "id": "180ZNw2CkFKg"
      }
    },
    {
      "cell_type": "markdown",
      "source": [
        "## Text Cleaning\n",
        "Tweets require lots of cleaning but it is inefficient to clean every single tweet because that would consume too much time. A general approach must be implemented for cleaning.\n",
        "\n",
        "* The most common type of words that require cleaning in `oov` have punctuations at the start or end. Those words doesn't have embeddings because of the trailing punctuations. Punctuations `#`, `@`, `!`, `?`, `+`, `&`, `-`, `$`, `=`, `<`, `>`, `|`, `{`, `}`, `^`, `'`, `(`, `)`,`[`, `]`, `*`, `%`, `...`, `'`, `.`, `:`, `;` are separated from words\n",
        "* Special characters that are attached to words are removed completely\n",
        "* Contractions are expanded\n",
        "* Urls are removed\n",
        "* Character entity references are replaced with their actual symbols\n",
        "* Typos and slang are corrected, and informal abbreviations are written in their long forms\n",
        "* Some words are replaced with their acronyms and some words are grouped into one\n",
        "* Finally, hashtags and usernames contain lots of information about the context but they are written without spaces in between words so they don't have embeddings. Informational usernames and hashtags should be expanded but there are too many of them. I expanded as many as I could, but it takes too much time to run `clean` function after adding those replace calls."
      ],
      "metadata": {
        "id": "yrANbBGhkJ-z"
      }
    },
    {
      "cell_type": "code",
      "source": [
        "def clean_text(text):\n",
        "    '''Make text lowercase, remove text in square brackets,remove links,remove punctuation\n",
        "    and remove words containing numbers.'''\n",
        "    text = str(text).lower()\n",
        "    text = re.sub('\\[.*?\\]', '', text)\n",
        "    text = re.sub('https?://\\S+|www\\.\\S+', '', text)\n",
        "    text = re.sub('<.*?>+', '', text)\n",
        "    text = re.sub('[%s]' % re.escape(string.punctuation), '', text)\n",
        "    text = re.sub('\\n', '', text)\n",
        "    # text = re.sub('\\w*\\d\\w*', '', text)\n",
        "    return text"
      ],
      "metadata": {
        "id": "WYucgxiMkAry"
      },
      "execution_count": 222,
      "outputs": []
    },
    {
      "cell_type": "code",
      "source": [
        "train['CleanTweetText'] = train['TweetText'].apply(lambda x:clean_text(x))\n",
        "test['CleanTweetText'] = test['TweetText'].apply(lambda x:clean_text(x))"
      ],
      "metadata": {
        "id": "MsBH3AxQkAwr"
      },
      "execution_count": 223,
      "outputs": []
    },
    {
      "cell_type": "code",
      "source": [
        "train.head()"
      ],
      "metadata": {
        "colab": {
          "base_uri": "https://localhost:8080/",
          "height": 206
        },
        "id": "8cBpEd2XkA14",
        "outputId": "552b48d4-1db3-44d5-b2b0-57abaf2d1a41"
      },
      "execution_count": 224,
      "outputs": [
        {
          "output_type": "execute_result",
          "data": {
            "text/plain": [
              "              TweetId     Label  \\\n",
              "0  304271250237304833  Politics   \n",
              "1  304834304222064640  Politics   \n",
              "2  303568995880144898    Sports   \n",
              "3  304366580664528896    Sports   \n",
              "4  296770931098009601    Sports   \n",
              "\n",
              "                                           TweetText  \\\n",
              "0  '#SecKerry: The value of the @StateDept and @U...   \n",
              "1                            '@rraina1481 I fear so'   \n",
              "2  'Watch video highlights of the #wwc13 final be...   \n",
              "3  'RT @chelscanlan: At Nitro Circus at #AlbertPa...   \n",
              "4  '@cricketfox Always a good thing. Thanks for t...   \n",
              "\n",
              "                                      CleanTweetText  \n",
              "0  seckerry the value of the statedept and usaid ...  \n",
              "1                               rraina1481 i fear so  \n",
              "2  watch video highlights of the wwc13 final betw...  \n",
              "3  rt chelscanlan at nitro circus at albertpark  ...  \n",
              "4  cricketfox always a good thing thanks for the ...  "
            ],
            "text/html": [
              "\n",
              "  <div id=\"df-27559984-a135-4efd-8a5a-ae05f6e7b0f8\" class=\"colab-df-container\">\n",
              "    <div>\n",
              "<style scoped>\n",
              "    .dataframe tbody tr th:only-of-type {\n",
              "        vertical-align: middle;\n",
              "    }\n",
              "\n",
              "    .dataframe tbody tr th {\n",
              "        vertical-align: top;\n",
              "    }\n",
              "\n",
              "    .dataframe thead th {\n",
              "        text-align: right;\n",
              "    }\n",
              "</style>\n",
              "<table border=\"1\" class=\"dataframe\">\n",
              "  <thead>\n",
              "    <tr style=\"text-align: right;\">\n",
              "      <th></th>\n",
              "      <th>TweetId</th>\n",
              "      <th>Label</th>\n",
              "      <th>TweetText</th>\n",
              "      <th>CleanTweetText</th>\n",
              "    </tr>\n",
              "  </thead>\n",
              "  <tbody>\n",
              "    <tr>\n",
              "      <th>0</th>\n",
              "      <td>304271250237304833</td>\n",
              "      <td>Politics</td>\n",
              "      <td>'#SecKerry: The value of the @StateDept and @U...</td>\n",
              "      <td>seckerry the value of the statedept and usaid ...</td>\n",
              "    </tr>\n",
              "    <tr>\n",
              "      <th>1</th>\n",
              "      <td>304834304222064640</td>\n",
              "      <td>Politics</td>\n",
              "      <td>'@rraina1481 I fear so'</td>\n",
              "      <td>rraina1481 i fear so</td>\n",
              "    </tr>\n",
              "    <tr>\n",
              "      <th>2</th>\n",
              "      <td>303568995880144898</td>\n",
              "      <td>Sports</td>\n",
              "      <td>'Watch video highlights of the #wwc13 final be...</td>\n",
              "      <td>watch video highlights of the wwc13 final betw...</td>\n",
              "    </tr>\n",
              "    <tr>\n",
              "      <th>3</th>\n",
              "      <td>304366580664528896</td>\n",
              "      <td>Sports</td>\n",
              "      <td>'RT @chelscanlan: At Nitro Circus at #AlbertPa...</td>\n",
              "      <td>rt chelscanlan at nitro circus at albertpark  ...</td>\n",
              "    </tr>\n",
              "    <tr>\n",
              "      <th>4</th>\n",
              "      <td>296770931098009601</td>\n",
              "      <td>Sports</td>\n",
              "      <td>'@cricketfox Always a good thing. Thanks for t...</td>\n",
              "      <td>cricketfox always a good thing thanks for the ...</td>\n",
              "    </tr>\n",
              "  </tbody>\n",
              "</table>\n",
              "</div>\n",
              "    <div class=\"colab-df-buttons\">\n",
              "\n",
              "  <div class=\"colab-df-container\">\n",
              "    <button class=\"colab-df-convert\" onclick=\"convertToInteractive('df-27559984-a135-4efd-8a5a-ae05f6e7b0f8')\"\n",
              "            title=\"Convert this dataframe to an interactive table.\"\n",
              "            style=\"display:none;\">\n",
              "\n",
              "  <svg xmlns=\"http://www.w3.org/2000/svg\" height=\"24px\" viewBox=\"0 -960 960 960\">\n",
              "    <path d=\"M120-120v-720h720v720H120Zm60-500h600v-160H180v160Zm220 220h160v-160H400v160Zm0 220h160v-160H400v160ZM180-400h160v-160H180v160Zm440 0h160v-160H620v160ZM180-180h160v-160H180v160Zm440 0h160v-160H620v160Z\"/>\n",
              "  </svg>\n",
              "    </button>\n",
              "\n",
              "  <style>\n",
              "    .colab-df-container {\n",
              "      display:flex;\n",
              "      gap: 12px;\n",
              "    }\n",
              "\n",
              "    .colab-df-convert {\n",
              "      background-color: #E8F0FE;\n",
              "      border: none;\n",
              "      border-radius: 50%;\n",
              "      cursor: pointer;\n",
              "      display: none;\n",
              "      fill: #1967D2;\n",
              "      height: 32px;\n",
              "      padding: 0 0 0 0;\n",
              "      width: 32px;\n",
              "    }\n",
              "\n",
              "    .colab-df-convert:hover {\n",
              "      background-color: #E2EBFA;\n",
              "      box-shadow: 0px 1px 2px rgba(60, 64, 67, 0.3), 0px 1px 3px 1px rgba(60, 64, 67, 0.15);\n",
              "      fill: #174EA6;\n",
              "    }\n",
              "\n",
              "    .colab-df-buttons div {\n",
              "      margin-bottom: 4px;\n",
              "    }\n",
              "\n",
              "    [theme=dark] .colab-df-convert {\n",
              "      background-color: #3B4455;\n",
              "      fill: #D2E3FC;\n",
              "    }\n",
              "\n",
              "    [theme=dark] .colab-df-convert:hover {\n",
              "      background-color: #434B5C;\n",
              "      box-shadow: 0px 1px 3px 1px rgba(0, 0, 0, 0.15);\n",
              "      filter: drop-shadow(0px 1px 2px rgba(0, 0, 0, 0.3));\n",
              "      fill: #FFFFFF;\n",
              "    }\n",
              "  </style>\n",
              "\n",
              "    <script>\n",
              "      const buttonEl =\n",
              "        document.querySelector('#df-27559984-a135-4efd-8a5a-ae05f6e7b0f8 button.colab-df-convert');\n",
              "      buttonEl.style.display =\n",
              "        google.colab.kernel.accessAllowed ? 'block' : 'none';\n",
              "\n",
              "      async function convertToInteractive(key) {\n",
              "        const element = document.querySelector('#df-27559984-a135-4efd-8a5a-ae05f6e7b0f8');\n",
              "        const dataTable =\n",
              "          await google.colab.kernel.invokeFunction('convertToInteractive',\n",
              "                                                    [key], {});\n",
              "        if (!dataTable) return;\n",
              "\n",
              "        const docLinkHtml = 'Like what you see? Visit the ' +\n",
              "          '<a target=\"_blank\" href=https://colab.research.google.com/notebooks/data_table.ipynb>data table notebook</a>'\n",
              "          + ' to learn more about interactive tables.';\n",
              "        element.innerHTML = '';\n",
              "        dataTable['output_type'] = 'display_data';\n",
              "        await google.colab.output.renderOutput(dataTable, element);\n",
              "        const docLink = document.createElement('div');\n",
              "        docLink.innerHTML = docLinkHtml;\n",
              "        element.appendChild(docLink);\n",
              "      }\n",
              "    </script>\n",
              "  </div>\n",
              "\n",
              "\n",
              "<div id=\"df-491495e0-9309-4da3-ad48-0921f63d5c45\">\n",
              "  <button class=\"colab-df-quickchart\" onclick=\"quickchart('df-491495e0-9309-4da3-ad48-0921f63d5c45')\"\n",
              "            title=\"Suggest charts\"\n",
              "            style=\"display:none;\">\n",
              "\n",
              "<svg xmlns=\"http://www.w3.org/2000/svg\" height=\"24px\"viewBox=\"0 0 24 24\"\n",
              "     width=\"24px\">\n",
              "    <g>\n",
              "        <path d=\"M19 3H5c-1.1 0-2 .9-2 2v14c0 1.1.9 2 2 2h14c1.1 0 2-.9 2-2V5c0-1.1-.9-2-2-2zM9 17H7v-7h2v7zm4 0h-2V7h2v10zm4 0h-2v-4h2v4z\"/>\n",
              "    </g>\n",
              "</svg>\n",
              "  </button>\n",
              "\n",
              "<style>\n",
              "  .colab-df-quickchart {\n",
              "      --bg-color: #E8F0FE;\n",
              "      --fill-color: #1967D2;\n",
              "      --hover-bg-color: #E2EBFA;\n",
              "      --hover-fill-color: #174EA6;\n",
              "      --disabled-fill-color: #AAA;\n",
              "      --disabled-bg-color: #DDD;\n",
              "  }\n",
              "\n",
              "  [theme=dark] .colab-df-quickchart {\n",
              "      --bg-color: #3B4455;\n",
              "      --fill-color: #D2E3FC;\n",
              "      --hover-bg-color: #434B5C;\n",
              "      --hover-fill-color: #FFFFFF;\n",
              "      --disabled-bg-color: #3B4455;\n",
              "      --disabled-fill-color: #666;\n",
              "  }\n",
              "\n",
              "  .colab-df-quickchart {\n",
              "    background-color: var(--bg-color);\n",
              "    border: none;\n",
              "    border-radius: 50%;\n",
              "    cursor: pointer;\n",
              "    display: none;\n",
              "    fill: var(--fill-color);\n",
              "    height: 32px;\n",
              "    padding: 0;\n",
              "    width: 32px;\n",
              "  }\n",
              "\n",
              "  .colab-df-quickchart:hover {\n",
              "    background-color: var(--hover-bg-color);\n",
              "    box-shadow: 0 1px 2px rgba(60, 64, 67, 0.3), 0 1px 3px 1px rgba(60, 64, 67, 0.15);\n",
              "    fill: var(--button-hover-fill-color);\n",
              "  }\n",
              "\n",
              "  .colab-df-quickchart-complete:disabled,\n",
              "  .colab-df-quickchart-complete:disabled:hover {\n",
              "    background-color: var(--disabled-bg-color);\n",
              "    fill: var(--disabled-fill-color);\n",
              "    box-shadow: none;\n",
              "  }\n",
              "\n",
              "  .colab-df-spinner {\n",
              "    border: 2px solid var(--fill-color);\n",
              "    border-color: transparent;\n",
              "    border-bottom-color: var(--fill-color);\n",
              "    animation:\n",
              "      spin 1s steps(1) infinite;\n",
              "  }\n",
              "\n",
              "  @keyframes spin {\n",
              "    0% {\n",
              "      border-color: transparent;\n",
              "      border-bottom-color: var(--fill-color);\n",
              "      border-left-color: var(--fill-color);\n",
              "    }\n",
              "    20% {\n",
              "      border-color: transparent;\n",
              "      border-left-color: var(--fill-color);\n",
              "      border-top-color: var(--fill-color);\n",
              "    }\n",
              "    30% {\n",
              "      border-color: transparent;\n",
              "      border-left-color: var(--fill-color);\n",
              "      border-top-color: var(--fill-color);\n",
              "      border-right-color: var(--fill-color);\n",
              "    }\n",
              "    40% {\n",
              "      border-color: transparent;\n",
              "      border-right-color: var(--fill-color);\n",
              "      border-top-color: var(--fill-color);\n",
              "    }\n",
              "    60% {\n",
              "      border-color: transparent;\n",
              "      border-right-color: var(--fill-color);\n",
              "    }\n",
              "    80% {\n",
              "      border-color: transparent;\n",
              "      border-right-color: var(--fill-color);\n",
              "      border-bottom-color: var(--fill-color);\n",
              "    }\n",
              "    90% {\n",
              "      border-color: transparent;\n",
              "      border-bottom-color: var(--fill-color);\n",
              "    }\n",
              "  }\n",
              "</style>\n",
              "\n",
              "  <script>\n",
              "    async function quickchart(key) {\n",
              "      const quickchartButtonEl =\n",
              "        document.querySelector('#' + key + ' button');\n",
              "      quickchartButtonEl.disabled = true;  // To prevent multiple clicks.\n",
              "      quickchartButtonEl.classList.add('colab-df-spinner');\n",
              "      try {\n",
              "        const charts = await google.colab.kernel.invokeFunction(\n",
              "            'suggestCharts', [key], {});\n",
              "      } catch (error) {\n",
              "        console.error('Error during call to suggestCharts:', error);\n",
              "      }\n",
              "      quickchartButtonEl.classList.remove('colab-df-spinner');\n",
              "      quickchartButtonEl.classList.add('colab-df-quickchart-complete');\n",
              "    }\n",
              "    (() => {\n",
              "      let quickchartButtonEl =\n",
              "        document.querySelector('#df-491495e0-9309-4da3-ad48-0921f63d5c45 button');\n",
              "      quickchartButtonEl.style.display =\n",
              "        google.colab.kernel.accessAllowed ? 'block' : 'none';\n",
              "    })();\n",
              "  </script>\n",
              "</div>\n",
              "\n",
              "    </div>\n",
              "  </div>\n"
            ],
            "application/vnd.google.colaboratory.intrinsic+json": {
              "type": "dataframe",
              "variable_name": "train",
              "summary": "{\n  \"name\": \"train\",\n  \"rows\": 6525,\n  \"fields\": [\n    {\n      \"column\": \"TweetId\",\n      \"properties\": {\n        \"dtype\": \"number\",\n        \"std\": 51398190539813376,\n        \"min\": 23909305792,\n        \"max\": 306834146813169667,\n        \"num_unique_values\": 6525,\n        \"samples\": [\n          304591158921818113,\n          305937398846607360,\n          304094994950672384\n        ],\n        \"semantic_type\": \"\",\n        \"description\": \"\"\n      }\n    },\n    {\n      \"column\": \"Label\",\n      \"properties\": {\n        \"dtype\": \"category\",\n        \"num_unique_values\": 2,\n        \"samples\": [\n          \"Sports\",\n          \"Politics\"\n        ],\n        \"semantic_type\": \"\",\n        \"description\": \"\"\n      }\n    },\n    {\n      \"column\": \"TweetText\",\n      \"properties\": {\n        \"dtype\": \"string\",\n        \"num_unique_values\": 6508,\n        \"samples\": [\n          \"'Looks like #Blackpool Manager, Ian Holloway is saving some money from his budget to spend in January.'\",\n          \"'Late night debates at @EP_Economics: #EuropeanSemester and derivatives on agenda. Tune in at 10pm CET http://t.co/UNWHW0g6'\"\n        ],\n        \"semantic_type\": \"\",\n        \"description\": \"\"\n      }\n    },\n    {\n      \"column\": \"CleanTweetText\",\n      \"properties\": {\n        \"dtype\": \"string\",\n        \"num_unique_values\": 6498,\n        \"samples\": [\n          \"khurrum786 tickets will be posted approximately 6 weeks before the tournament starts\",\n          \"rt jduch sd hannesswoboda eubudget deal is unacceptablethere will be no majority for it in parliamentneed real modifications euco\"\n        ],\n        \"semantic_type\": \"\",\n        \"description\": \"\"\n      }\n    }\n  ]\n}"
            }
          },
          "metadata": {},
          "execution_count": 224
        }
      ]
    },
    {
      "cell_type": "markdown",
      "source": [
        "## Most common words\n",
        "\n",
        "If we print a list of the most common words now we are going to notice a common problem."
      ],
      "metadata": {
        "id": "JJWIqKmtkXgn"
      }
    },
    {
      "cell_type": "code",
      "source": [
        "train['WordList'] = train['CleanTweetText'].apply(lambda x:str(x).split())\n",
        "test['WordList'] = test['CleanTweetText'].apply(lambda x:str(x).split())\n",
        "top = Counter([item for sublist in pd.concat([train['WordList'], test['WordList']]) for item in sublist])\n",
        "temp = pd.DataFrame(top.most_common(20))\n",
        "temp.columns = ['Common_words','Count']\n",
        "temp.style.background_gradient(cmap='Blues')"
      ],
      "metadata": {
        "colab": {
          "base_uri": "https://localhost:8080/",
          "height": 677
        },
        "id": "2LPj4umhkA7w",
        "outputId": "e4733663-9edf-4709-95d7-f399d9b2a92f"
      },
      "execution_count": 225,
      "outputs": [
        {
          "output_type": "execute_result",
          "data": {
            "text/plain": [
              "<pandas.io.formats.style.Styler at 0x7f1e3330a6e0>"
            ],
            "text/html": [
              "<style type=\"text/css\">\n",
              "#T_30166_row0_col1 {\n",
              "  background-color: #08306b;\n",
              "  color: #f1f1f1;\n",
              "}\n",
              "#T_30166_row1_col1 {\n",
              "  background-color: #56a0ce;\n",
              "  color: #f1f1f1;\n",
              "}\n",
              "#T_30166_row2_col1 {\n",
              "  background-color: #8fc2de;\n",
              "  color: #000000;\n",
              "}\n",
              "#T_30166_row3_col1 {\n",
              "  background-color: #92c4de;\n",
              "  color: #000000;\n",
              "}\n",
              "#T_30166_row4_col1 {\n",
              "  background-color: #b8d5ea;\n",
              "  color: #000000;\n",
              "}\n",
              "#T_30166_row5_col1 {\n",
              "  background-color: #bed8ec;\n",
              "  color: #000000;\n",
              "}\n",
              "#T_30166_row6_col1 {\n",
              "  background-color: #c7dbef;\n",
              "  color: #000000;\n",
              "}\n",
              "#T_30166_row7_col1 {\n",
              "  background-color: #c9ddf0;\n",
              "  color: #000000;\n",
              "}\n",
              "#T_30166_row8_col1 {\n",
              "  background-color: #d9e8f5;\n",
              "  color: #000000;\n",
              "}\n",
              "#T_30166_row9_col1 {\n",
              "  background-color: #dfecf7;\n",
              "  color: #000000;\n",
              "}\n",
              "#T_30166_row10_col1 {\n",
              "  background-color: #e0ecf8;\n",
              "  color: #000000;\n",
              "}\n",
              "#T_30166_row11_col1 {\n",
              "  background-color: #e6f0f9;\n",
              "  color: #000000;\n",
              "}\n",
              "#T_30166_row12_col1 {\n",
              "  background-color: #f1f7fd;\n",
              "  color: #000000;\n",
              "}\n",
              "#T_30166_row13_col1, #T_30166_row14_col1 {\n",
              "  background-color: #f2f7fd;\n",
              "  color: #000000;\n",
              "}\n",
              "#T_30166_row15_col1 {\n",
              "  background-color: #f4f9fe;\n",
              "  color: #000000;\n",
              "}\n",
              "#T_30166_row16_col1, #T_30166_row17_col1 {\n",
              "  background-color: #f5f9fe;\n",
              "  color: #000000;\n",
              "}\n",
              "#T_30166_row18_col1, #T_30166_row19_col1 {\n",
              "  background-color: #f7fbff;\n",
              "  color: #000000;\n",
              "}\n",
              "</style>\n",
              "<table id=\"T_30166\" class=\"dataframe\">\n",
              "  <thead>\n",
              "    <tr>\n",
              "      <th class=\"blank level0\" >&nbsp;</th>\n",
              "      <th id=\"T_30166_level0_col0\" class=\"col_heading level0 col0\" >Common_words</th>\n",
              "      <th id=\"T_30166_level0_col1\" class=\"col_heading level0 col1\" >Count</th>\n",
              "    </tr>\n",
              "  </thead>\n",
              "  <tbody>\n",
              "    <tr>\n",
              "      <th id=\"T_30166_level0_row0\" class=\"row_heading level0 row0\" >0</th>\n",
              "      <td id=\"T_30166_row0_col0\" class=\"data row0 col0\" >the</td>\n",
              "      <td id=\"T_30166_row0_col1\" class=\"data row0 col1\" >5578</td>\n",
              "    </tr>\n",
              "    <tr>\n",
              "      <th id=\"T_30166_level0_row1\" class=\"row_heading level0 row1\" >1</th>\n",
              "      <td id=\"T_30166_row1_col0\" class=\"data row1 col0\" >to</td>\n",
              "      <td id=\"T_30166_row1_col1\" class=\"data row1 col1\" >3381</td>\n",
              "    </tr>\n",
              "    <tr>\n",
              "      <th id=\"T_30166_level0_row2\" class=\"row_heading level0 row2\" >2</th>\n",
              "      <td id=\"T_30166_row2_col0\" class=\"data row2 col0\" >in</td>\n",
              "      <td id=\"T_30166_row2_col1\" class=\"data row2 col1\" >2596</td>\n",
              "    </tr>\n",
              "    <tr>\n",
              "      <th id=\"T_30166_level0_row3\" class=\"row_heading level0 row3\" >3</th>\n",
              "      <td id=\"T_30166_row3_col0\" class=\"data row3 col0\" >of</td>\n",
              "      <td id=\"T_30166_row3_col1\" class=\"data row3 col1\" >2575</td>\n",
              "    </tr>\n",
              "    <tr>\n",
              "      <th id=\"T_30166_level0_row4\" class=\"row_heading level0 row4\" >4</th>\n",
              "      <td id=\"T_30166_row4_col0\" class=\"data row4 col0\" >a</td>\n",
              "      <td id=\"T_30166_row4_col1\" class=\"data row4 col1\" >2008</td>\n",
              "    </tr>\n",
              "    <tr>\n",
              "      <th id=\"T_30166_level0_row5\" class=\"row_heading level0 row5\" >5</th>\n",
              "      <td id=\"T_30166_row5_col0\" class=\"data row5 col0\" >for</td>\n",
              "      <td id=\"T_30166_row5_col1\" class=\"data row5 col1\" >1924</td>\n",
              "    </tr>\n",
              "    <tr>\n",
              "      <th id=\"T_30166_level0_row6\" class=\"row_heading level0 row6\" >6</th>\n",
              "      <td id=\"T_30166_row6_col0\" class=\"data row6 col0\" >and</td>\n",
              "      <td id=\"T_30166_row6_col1\" class=\"data row6 col1\" >1784</td>\n",
              "    </tr>\n",
              "    <tr>\n",
              "      <th id=\"T_30166_level0_row7\" class=\"row_heading level0 row7\" >7</th>\n",
              "      <td id=\"T_30166_row7_col0\" class=\"data row7 col0\" >on</td>\n",
              "      <td id=\"T_30166_row7_col1\" class=\"data row7 col1\" >1710</td>\n",
              "    </tr>\n",
              "    <tr>\n",
              "      <th id=\"T_30166_level0_row8\" class=\"row_heading level0 row8\" >8</th>\n",
              "      <td id=\"T_30166_row8_col0\" class=\"data row8 col0\" >rt</td>\n",
              "      <td id=\"T_30166_row8_col1\" class=\"data row8 col1\" >1286</td>\n",
              "    </tr>\n",
              "    <tr>\n",
              "      <th id=\"T_30166_level0_row9\" class=\"row_heading level0 row9\" >9</th>\n",
              "      <td id=\"T_30166_row9_col0\" class=\"data row9 col0\" >is</td>\n",
              "      <td id=\"T_30166_row9_col1\" class=\"data row9 col1\" >1134</td>\n",
              "    </tr>\n",
              "    <tr>\n",
              "      <th id=\"T_30166_level0_row10\" class=\"row_heading level0 row10\" >10</th>\n",
              "      <td id=\"T_30166_row10_col0\" class=\"data row10 col0\" >at</td>\n",
              "      <td id=\"T_30166_row10_col1\" class=\"data row10 col1\" >1114</td>\n",
              "    </tr>\n",
              "    <tr>\n",
              "      <th id=\"T_30166_level0_row11\" class=\"row_heading level0 row11\" >11</th>\n",
              "      <td id=\"T_30166_row11_col0\" class=\"data row11 col0\" >with</td>\n",
              "      <td id=\"T_30166_row11_col1\" class=\"data row11 col1\" >973</td>\n",
              "    </tr>\n",
              "    <tr>\n",
              "      <th id=\"T_30166_level0_row12\" class=\"row_heading level0 row12\" >12</th>\n",
              "      <td id=\"T_30166_row12_col0\" class=\"data row12 col0\" >amp</td>\n",
              "      <td id=\"T_30166_row12_col1\" class=\"data row12 col1\" >699</td>\n",
              "    </tr>\n",
              "    <tr>\n",
              "      <th id=\"T_30166_level0_row13\" class=\"row_heading level0 row13\" >13</th>\n",
              "      <td id=\"T_30166_row13_col0\" class=\"data row13 col0\" >you</td>\n",
              "      <td id=\"T_30166_row13_col1\" class=\"data row13 col1\" >670</td>\n",
              "    </tr>\n",
              "    <tr>\n",
              "      <th id=\"T_30166_level0_row14\" class=\"row_heading level0 row14\" >14</th>\n",
              "      <td id=\"T_30166_row14_col0\" class=\"data row14 col0\" >from</td>\n",
              "      <td id=\"T_30166_row14_col1\" class=\"data row14 col1\" >661</td>\n",
              "    </tr>\n",
              "    <tr>\n",
              "      <th id=\"T_30166_level0_row15\" class=\"row_heading level0 row15\" >15</th>\n",
              "      <td id=\"T_30166_row15_col0\" class=\"data row15 col0\" >by</td>\n",
              "      <td id=\"T_30166_row15_col1\" class=\"data row15 col1\" >607</td>\n",
              "    </tr>\n",
              "    <tr>\n",
              "      <th id=\"T_30166_level0_row16\" class=\"row_heading level0 row16\" >16</th>\n",
              "      <td id=\"T_30166_row16_col0\" class=\"data row16 col0\" >will</td>\n",
              "      <td id=\"T_30166_row16_col1\" class=\"data row16 col1\" >598</td>\n",
              "    </tr>\n",
              "    <tr>\n",
              "      <th id=\"T_30166_level0_row17\" class=\"row_heading level0 row17\" >17</th>\n",
              "      <td id=\"T_30166_row17_col0\" class=\"data row17 col0\" >we</td>\n",
              "      <td id=\"T_30166_row17_col1\" class=\"data row17 col1\" >593</td>\n",
              "    </tr>\n",
              "    <tr>\n",
              "      <th id=\"T_30166_level0_row18\" class=\"row_heading level0 row18\" >18</th>\n",
              "      <td id=\"T_30166_row18_col0\" class=\"data row18 col0\" >it</td>\n",
              "      <td id=\"T_30166_row18_col1\" class=\"data row18 col1\" >538</td>\n",
              "    </tr>\n",
              "    <tr>\n",
              "      <th id=\"T_30166_level0_row19\" class=\"row_heading level0 row19\" >19</th>\n",
              "      <td id=\"T_30166_row19_col0\" class=\"data row19 col0\" >be</td>\n",
              "      <td id=\"T_30166_row19_col1\" class=\"data row19 col1\" >522</td>\n",
              "    </tr>\n",
              "  </tbody>\n",
              "</table>\n"
            ]
          },
          "metadata": {},
          "execution_count": 225
        }
      ]
    },
    {
      "cell_type": "markdown",
      "source": [
        "The most frequent words are what is called *stopwords* in Natural Language Processing, and they provide little information about the message, so we are going to have to remove them."
      ],
      "metadata": {
        "id": "ligODJOpj9x-"
      }
    },
    {
      "cell_type": "code",
      "source": [
        "def remove_stopword(x):\n",
        "    return [y for y in x if y not in stopwords.words('english')]\n",
        "train['WordList'] = train['WordList'].apply(lambda x:remove_stopword(x))\n",
        "test['WordList'] = test['WordList'].apply(lambda x:remove_stopword(x))"
      ],
      "metadata": {
        "id": "Z1MGvf7_kgG4"
      },
      "execution_count": 226,
      "outputs": []
    },
    {
      "cell_type": "markdown",
      "source": [
        "Now let's see what the most common words by category are."
      ],
      "metadata": {
        "id": "M-nHeS4RklH3"
      }
    },
    {
      "cell_type": "code",
      "source": [
        "def split_by_category(df):\n",
        "    df_sports = df.loc[df['Label'] == \"Sports\"]\n",
        "    df_politics = df.loc[df['Label'] == \"Politics\"]\n",
        "    return df_sports, df_politics"
      ],
      "metadata": {
        "id": "cR9gxTN4kgOl"
      },
      "execution_count": 227,
      "outputs": []
    },
    {
      "cell_type": "code",
      "source": [
        "train_sports, train_politics = split_by_category(train)"
      ],
      "metadata": {
        "id": "4AZZKYgmkgUj"
      },
      "execution_count": 228,
      "outputs": []
    },
    {
      "cell_type": "markdown",
      "source": [
        "### Most common words used to talk about Sports"
      ],
      "metadata": {
        "id": "lXk6MOjDkt1q"
      }
    },
    {
      "cell_type": "code",
      "source": [
        "top_sports = Counter([item for sublist in train_sports['WordList'] for item in sublist])\n",
        "temp = pd.DataFrame(top_sports.most_common(20))\n",
        "temp = temp.iloc[1:,:]\n",
        "temp.columns = ['Common_words','Count']\n",
        "temp.style.background_gradient(cmap='Oranges')"
      ],
      "metadata": {
        "colab": {
          "base_uri": "https://localhost:8080/",
          "height": 645
        },
        "id": "yI5O4pN6ku5s",
        "outputId": "0bd4b839-377a-4c73-e926-5f479222384a"
      },
      "execution_count": 229,
      "outputs": [
        {
          "output_type": "execute_result",
          "data": {
            "text/plain": [
              "<pandas.io.formats.style.Styler at 0x7f1e033af550>"
            ],
            "text/html": [
              "<style type=\"text/css\">\n",
              "#T_79f54_row0_col1 {\n",
              "  background-color: #7f2704;\n",
              "  color: #f1f1f1;\n",
              "}\n",
              "#T_79f54_row1_col1 {\n",
              "  background-color: #ad3803;\n",
              "  color: #f1f1f1;\n",
              "}\n",
              "#T_79f54_row2_col1 {\n",
              "  background-color: #fd994d;\n",
              "  color: #000000;\n",
              "}\n",
              "#T_79f54_row3_col1 {\n",
              "  background-color: #fdaf6c;\n",
              "  color: #000000;\n",
              "}\n",
              "#T_79f54_row4_col1 {\n",
              "  background-color: #fdb475;\n",
              "  color: #000000;\n",
              "}\n",
              "#T_79f54_row5_col1 {\n",
              "  background-color: #fdb77a;\n",
              "  color: #000000;\n",
              "}\n",
              "#T_79f54_row6_col1 {\n",
              "  background-color: #fdc692;\n",
              "  color: #000000;\n",
              "}\n",
              "#T_79f54_row7_col1 {\n",
              "  background-color: #fdca99;\n",
              "  color: #000000;\n",
              "}\n",
              "#T_79f54_row8_col1 {\n",
              "  background-color: #fdd5ad;\n",
              "  color: #000000;\n",
              "}\n",
              "#T_79f54_row9_col1 {\n",
              "  background-color: #fdd8b2;\n",
              "  color: #000000;\n",
              "}\n",
              "#T_79f54_row10_col1 {\n",
              "  background-color: #fee4ca;\n",
              "  color: #000000;\n",
              "}\n",
              "#T_79f54_row11_col1 {\n",
              "  background-color: #fee7d0;\n",
              "  color: #000000;\n",
              "}\n",
              "#T_79f54_row12_col1 {\n",
              "  background-color: #fee9d4;\n",
              "  color: #000000;\n",
              "}\n",
              "#T_79f54_row13_col1 {\n",
              "  background-color: #feead5;\n",
              "  color: #000000;\n",
              "}\n",
              "#T_79f54_row14_col1 {\n",
              "  background-color: #feecd9;\n",
              "  color: #000000;\n",
              "}\n",
              "#T_79f54_row15_col1 {\n",
              "  background-color: #fff1e3;\n",
              "  color: #000000;\n",
              "}\n",
              "#T_79f54_row16_col1 {\n",
              "  background-color: #fff3e7;\n",
              "  color: #000000;\n",
              "}\n",
              "#T_79f54_row17_col1, #T_79f54_row18_col1 {\n",
              "  background-color: #fff5eb;\n",
              "  color: #000000;\n",
              "}\n",
              "</style>\n",
              "<table id=\"T_79f54\" class=\"dataframe\">\n",
              "  <thead>\n",
              "    <tr>\n",
              "      <th class=\"blank level0\" >&nbsp;</th>\n",
              "      <th id=\"T_79f54_level0_col0\" class=\"col_heading level0 col0\" >Common_words</th>\n",
              "      <th id=\"T_79f54_level0_col1\" class=\"col_heading level0 col1\" >Count</th>\n",
              "    </tr>\n",
              "  </thead>\n",
              "  <tbody>\n",
              "    <tr>\n",
              "      <th id=\"T_79f54_level0_row0\" class=\"row_heading level0 row0\" >1</th>\n",
              "      <td id=\"T_79f54_row0_col0\" class=\"data row0 col0\" >indvaus</td>\n",
              "      <td id=\"T_79f54_row0_col1\" class=\"data row0 col1\" >347</td>\n",
              "    </tr>\n",
              "    <tr>\n",
              "      <th id=\"T_79f54_level0_row1\" class=\"row_heading level0 row1\" >2</th>\n",
              "      <td id=\"T_79f54_row1_col0\" class=\"data row1 col0\" >test</td>\n",
              "      <td id=\"T_79f54_row1_col1\" class=\"data row1 col1\" >314</td>\n",
              "    </tr>\n",
              "    <tr>\n",
              "      <th id=\"T_79f54_level0_row2\" class=\"row_heading level0 row2\" >3</th>\n",
              "      <td id=\"T_79f54_row2_col0\" class=\"data row2 col0\" >1st</td>\n",
              "      <td id=\"T_79f54_row2_col1\" class=\"data row2 col1\" >220</td>\n",
              "    </tr>\n",
              "    <tr>\n",
              "      <th id=\"T_79f54_level0_row3\" class=\"row_heading level0 row3\" >4</th>\n",
              "      <td id=\"T_79f54_row3_col0\" class=\"data row3 col0\" >bcci</td>\n",
              "      <td id=\"T_79f54_row3_col1\" class=\"data row3 col1\" >201</td>\n",
              "    </tr>\n",
              "    <tr>\n",
              "      <th id=\"T_79f54_level0_row4\" class=\"row_heading level0 row4\" >5</th>\n",
              "      <td id=\"T_79f54_row4_col0\" class=\"data row4 col0\" >runs</td>\n",
              "      <td id=\"T_79f54_row4_col1\" class=\"data row4 col1\" >196</td>\n",
              "    </tr>\n",
              "    <tr>\n",
              "      <th id=\"T_79f54_level0_row5\" class=\"row_heading level0 row5\" >6</th>\n",
              "      <td id=\"T_79f54_row5_col0\" class=\"data row5 col0\" >bbl02</td>\n",
              "      <td id=\"T_79f54_row5_col1\" class=\"data row5 col1\" >194</td>\n",
              "    </tr>\n",
              "    <tr>\n",
              "      <th id=\"T_79f54_level0_row6\" class=\"row_heading level0 row6\" >7</th>\n",
              "      <td id=\"T_79f54_row6_col0\" class=\"data row6 col0\" >atp</td>\n",
              "      <td id=\"T_79f54_row6_col1\" class=\"data row6 col1\" >181</td>\n",
              "    </tr>\n",
              "    <tr>\n",
              "      <th id=\"T_79f54_level0_row7\" class=\"row_heading level0 row7\" >8</th>\n",
              "      <td id=\"T_79f54_row7_col0\" class=\"data row7 col0\" >amp</td>\n",
              "      <td id=\"T_79f54_row7_col1\" class=\"data row7 col1\" >177</td>\n",
              "    </tr>\n",
              "    <tr>\n",
              "      <th id=\"T_79f54_level0_row8\" class=\"row_heading level0 row8\" >9</th>\n",
              "      <td id=\"T_79f54_row8_col0\" class=\"data row8 col0\" >bigfinals</td>\n",
              "      <td id=\"T_79f54_row8_col1\" class=\"data row8 col1\" >165</td>\n",
              "    </tr>\n",
              "    <tr>\n",
              "      <th id=\"T_79f54_level0_row9\" class=\"row_heading level0 row9\" >10</th>\n",
              "      <td id=\"T_79f54_row9_col0\" class=\"data row9 col0\" >cfc</td>\n",
              "      <td id=\"T_79f54_row9_col1\" class=\"data row9 col1\" >162</td>\n",
              "    </tr>\n",
              "    <tr>\n",
              "      <th id=\"T_79f54_level0_row10\" class=\"row_heading level0 row10\" >11</th>\n",
              "      <td id=\"T_79f54_row10_col0\" class=\"data row10 col0\" >tennis</td>\n",
              "      <td id=\"T_79f54_row10_col1\" class=\"data row10 col1\" >146</td>\n",
              "    </tr>\n",
              "    <tr>\n",
              "      <th id=\"T_79f54_level0_row11\" class=\"row_heading level0 row11\" >12</th>\n",
              "      <td id=\"T_79f54_row11_col0\" class=\"data row11 col0\" >win</td>\n",
              "      <td id=\"T_79f54_row11_col1\" class=\"data row11 col1\" >142</td>\n",
              "    </tr>\n",
              "    <tr>\n",
              "      <th id=\"T_79f54_level0_row12\" class=\"row_heading level0 row12\" >13</th>\n",
              "      <td id=\"T_79f54_row12_col0\" class=\"data row12 col0\" >final</td>\n",
              "      <td id=\"T_79f54_row12_col1\" class=\"data row12 col1\" >137</td>\n",
              "    </tr>\n",
              "    <tr>\n",
              "      <th id=\"T_79f54_level0_row13\" class=\"row_heading level0 row13\" >14</th>\n",
              "      <td id=\"T_79f54_row13_col0\" class=\"data row13 col0\" >first</td>\n",
              "      <td id=\"T_79f54_row13_col1\" class=\"data row13 col1\" >136</td>\n",
              "    </tr>\n",
              "    <tr>\n",
              "      <th id=\"T_79f54_level0_row14\" class=\"row_heading level0 row14\" >15</th>\n",
              "      <td id=\"T_79f54_row14_col0\" class=\"data row14 col0\" >aus</td>\n",
              "      <td id=\"T_79f54_row14_col1\" class=\"data row14 col1\" >133</td>\n",
              "    </tr>\n",
              "    <tr>\n",
              "      <th id=\"T_79f54_level0_row15\" class=\"row_heading level0 row15\" >16</th>\n",
              "      <td id=\"T_79f54_row15_col0\" class=\"data row15 col0\" >india</td>\n",
              "      <td id=\"T_79f54_row15_col1\" class=\"data row15 col1\" >123</td>\n",
              "    </tr>\n",
              "    <tr>\n",
              "      <th id=\"T_79f54_level0_row16\" class=\"row_heading level0 row16\" >17</th>\n",
              "      <td id=\"T_79f54_row16_col0\" class=\"data row16 col0\" >1</td>\n",
              "      <td id=\"T_79f54_row16_col1\" class=\"data row16 col1\" >118</td>\n",
              "    </tr>\n",
              "    <tr>\n",
              "      <th id=\"T_79f54_level0_row17\" class=\"row_heading level0 row17\" >18</th>\n",
              "      <td id=\"T_79f54_row17_col0\" class=\"data row17 col0\" >team</td>\n",
              "      <td id=\"T_79f54_row17_col1\" class=\"data row17 col1\" >114</td>\n",
              "    </tr>\n",
              "    <tr>\n",
              "      <th id=\"T_79f54_level0_row18\" class=\"row_heading level0 row18\" >19</th>\n",
              "      <td id=\"T_79f54_row18_col0\" class=\"data row18 col0\" >game</td>\n",
              "      <td id=\"T_79f54_row18_col1\" class=\"data row18 col1\" >114</td>\n",
              "    </tr>\n",
              "  </tbody>\n",
              "</table>\n"
            ]
          },
          "metadata": {},
          "execution_count": 229
        }
      ]
    },
    {
      "cell_type": "markdown",
      "source": [
        "### Most common words used to talk about Politics"
      ],
      "metadata": {
        "id": "7mngdvOuk6wn"
      }
    },
    {
      "cell_type": "code",
      "source": [
        "top_politics = Counter([item for sublist in train_politics['WordList'] for item in sublist])\n",
        "temp = pd.DataFrame(top_politics.most_common(20))\n",
        "temp = temp.iloc[1:,:]\n",
        "temp.columns = ['Common_words','Count']\n",
        "temp.style.background_gradient(cmap='Purples')"
      ],
      "metadata": {
        "colab": {
          "base_uri": "https://localhost:8080/",
          "height": 645
        },
        "id": "HaoXoh_skvAC",
        "outputId": "26bba9c1-c3be-439f-cf6c-27f33af9c392"
      },
      "execution_count": 230,
      "outputs": [
        {
          "output_type": "execute_result",
          "data": {
            "text/plain": [
              "<pandas.io.formats.style.Styler at 0x7f1e33308d90>"
            ],
            "text/html": [
              "<style type=\"text/css\">\n",
              "#T_5b41d_row0_col1 {\n",
              "  background-color: #3f007d;\n",
              "  color: #f1f1f1;\n",
              "}\n",
              "#T_5b41d_row1_col1 {\n",
              "  background-color: #582f93;\n",
              "  color: #f1f1f1;\n",
              "}\n",
              "#T_5b41d_row2_col1 {\n",
              "  background-color: #9f9cc9;\n",
              "  color: #f1f1f1;\n",
              "}\n",
              "#T_5b41d_row3_col1 {\n",
              "  background-color: #cdcde4;\n",
              "  color: #000000;\n",
              "}\n",
              "#T_5b41d_row4_col1 {\n",
              "  background-color: #e3e2ef;\n",
              "  color: #000000;\n",
              "}\n",
              "#T_5b41d_row5_col1 {\n",
              "  background-color: #e6e5f1;\n",
              "  color: #000000;\n",
              "}\n",
              "#T_5b41d_row6_col1 {\n",
              "  background-color: #e8e6f2;\n",
              "  color: #000000;\n",
              "}\n",
              "#T_5b41d_row7_col1 {\n",
              "  background-color: #efedf5;\n",
              "  color: #000000;\n",
              "}\n",
              "#T_5b41d_row8_col1 {\n",
              "  background-color: #f0eef6;\n",
              "  color: #000000;\n",
              "}\n",
              "#T_5b41d_row9_col1 {\n",
              "  background-color: #f1eff6;\n",
              "  color: #000000;\n",
              "}\n",
              "#T_5b41d_row10_col1 {\n",
              "  background-color: #f2f0f7;\n",
              "  color: #000000;\n",
              "}\n",
              "#T_5b41d_row11_col1 {\n",
              "  background-color: #f3f2f8;\n",
              "  color: #000000;\n",
              "}\n",
              "#T_5b41d_row12_col1, #T_5b41d_row13_col1 {\n",
              "  background-color: #f4f2f8;\n",
              "  color: #000000;\n",
              "}\n",
              "#T_5b41d_row14_col1 {\n",
              "  background-color: #f4f3f8;\n",
              "  color: #000000;\n",
              "}\n",
              "#T_5b41d_row15_col1 {\n",
              "  background-color: #f7f6fa;\n",
              "  color: #000000;\n",
              "}\n",
              "#T_5b41d_row16_col1 {\n",
              "  background-color: #faf8fb;\n",
              "  color: #000000;\n",
              "}\n",
              "#T_5b41d_row17_col1 {\n",
              "  background-color: #faf9fc;\n",
              "  color: #000000;\n",
              "}\n",
              "#T_5b41d_row18_col1 {\n",
              "  background-color: #fcfbfd;\n",
              "  color: #000000;\n",
              "}\n",
              "</style>\n",
              "<table id=\"T_5b41d\" class=\"dataframe\">\n",
              "  <thead>\n",
              "    <tr>\n",
              "      <th class=\"blank level0\" >&nbsp;</th>\n",
              "      <th id=\"T_5b41d_level0_col0\" class=\"col_heading level0 col0\" >Common_words</th>\n",
              "      <th id=\"T_5b41d_level0_col1\" class=\"col_heading level0 col1\" >Count</th>\n",
              "    </tr>\n",
              "  </thead>\n",
              "  <tbody>\n",
              "    <tr>\n",
              "      <th id=\"T_5b41d_level0_row0\" class=\"row_heading level0 row0\" >1</th>\n",
              "      <td id=\"T_5b41d_row0_col0\" class=\"data row0 col0\" >rt</td>\n",
              "      <td id=\"T_5b41d_row0_col1\" class=\"data row0 col1\" >368</td>\n",
              "    </tr>\n",
              "    <tr>\n",
              "      <th id=\"T_5b41d_level0_row1\" class=\"row_heading level0 row1\" >2</th>\n",
              "      <td id=\"T_5b41d_row1_col0\" class=\"data row1 col0\" >president</td>\n",
              "      <td id=\"T_5b41d_row1_col1\" class=\"data row1 col1\" >329</td>\n",
              "    </tr>\n",
              "    <tr>\n",
              "      <th id=\"T_5b41d_level0_row2\" class=\"row_heading level0 row2\" >3</th>\n",
              "      <td id=\"T_5b41d_row2_col0\" class=\"data row2 col0\" >obama</td>\n",
              "      <td id=\"T_5b41d_row2_col1\" class=\"data row2 col1\" >236</td>\n",
              "    </tr>\n",
              "    <tr>\n",
              "      <th id=\"T_5b41d_level0_row3\" class=\"row_heading level0 row3\" >4</th>\n",
              "      <td id=\"T_5b41d_row3_col0\" class=\"data row3 col0\" >pm</td>\n",
              "      <td id=\"T_5b41d_row3_col1\" class=\"data row3 col1\" >188</td>\n",
              "    </tr>\n",
              "    <tr>\n",
              "      <th id=\"T_5b41d_level0_row4\" class=\"row_heading level0 row4\" >5</th>\n",
              "      <td id=\"T_5b41d_row4_col0\" class=\"data row4 col0\" >conference</td>\n",
              "      <td id=\"T_5b41d_row4_col1\" class=\"data row4 col1\" >159</td>\n",
              "    </tr>\n",
              "    <tr>\n",
              "      <th id=\"T_5b41d_level0_row5\" class=\"row_heading level0 row5\" >6</th>\n",
              "      <td id=\"T_5b41d_row5_col0\" class=\"data row5 col0\" >video</td>\n",
              "      <td id=\"T_5b41d_row5_col1\" class=\"data row5 col1\" >155</td>\n",
              "    </tr>\n",
              "    <tr>\n",
              "      <th id=\"T_5b41d_level0_row6\" class=\"row_heading level0 row6\" >7</th>\n",
              "      <td id=\"T_5b41d_row6_col0\" class=\"data row6 col0\" >new</td>\n",
              "      <td id=\"T_5b41d_row6_col1\" class=\"data row6 col1\" >152</td>\n",
              "    </tr>\n",
              "    <tr>\n",
              "      <th id=\"T_5b41d_level0_row7\" class=\"row_heading level0 row7\" >8</th>\n",
              "      <td id=\"T_5b41d_row7_col0\" class=\"data row7 col0\" >press</td>\n",
              "      <td id=\"T_5b41d_row7_col1\" class=\"data row7 col1\" >140</td>\n",
              "    </tr>\n",
              "    <tr>\n",
              "      <th id=\"T_5b41d_level0_row8\" class=\"row_heading level0 row8\" >9</th>\n",
              "      <td id=\"T_5b41d_row8_col0\" class=\"data row8 col0\" >medvedev</td>\n",
              "      <td id=\"T_5b41d_row8_col1\" class=\"data row8 col1\" >138</td>\n",
              "    </tr>\n",
              "    <tr>\n",
              "      <th id=\"T_5b41d_level0_row9\" class=\"row_heading level0 row9\" >10</th>\n",
              "      <td id=\"T_5b41d_row9_col0\" class=\"data row9 col0\" >nelsonmandela</td>\n",
              "      <td id=\"T_5b41d_row9_col1\" class=\"data row9 col1\" >136</td>\n",
              "    </tr>\n",
              "    <tr>\n",
              "      <th id=\"T_5b41d_level0_row10\" class=\"row_heading level0 row10\" >11</th>\n",
              "      <td id=\"T_5b41d_row10_col0\" class=\"data row10 col0\" >live</td>\n",
              "      <td id=\"T_5b41d_row10_col1\" class=\"data row10 col1\" >134</td>\n",
              "    </tr>\n",
              "    <tr>\n",
              "      <th id=\"T_5b41d_level0_row11\" class=\"row_heading level0 row11\" >12</th>\n",
              "      <td id=\"T_5b41d_row11_col0\" class=\"data row11 col0\" >cabinet</td>\n",
              "      <td id=\"T_5b41d_row11_col1\" class=\"data row11 col1\" >130</td>\n",
              "    </tr>\n",
              "    <tr>\n",
              "      <th id=\"T_5b41d_level0_row12\" class=\"row_heading level0 row12\" >13</th>\n",
              "      <td id=\"T_5b41d_row12_col0\" class=\"data row12 col0\" >chief</td>\n",
              "      <td id=\"T_5b41d_row12_col1\" class=\"data row12 col1\" >129</td>\n",
              "    </tr>\n",
              "    <tr>\n",
              "      <th id=\"T_5b41d_level0_row13\" class=\"row_heading level0 row13\" >14</th>\n",
              "      <td id=\"T_5b41d_row13_col0\" class=\"data row13 col0\" >us</td>\n",
              "      <td id=\"T_5b41d_row13_col1\" class=\"data row13 col1\" >129</td>\n",
              "    </tr>\n",
              "    <tr>\n",
              "      <th id=\"T_5b41d_level0_row14\" class=\"row_heading level0 row14\" >15</th>\n",
              "      <td id=\"T_5b41d_row14_col0\" class=\"data row14 col0\" >secretary</td>\n",
              "      <td id=\"T_5b41d_row14_col1\" class=\"data row14 col1\" >128</td>\n",
              "    </tr>\n",
              "    <tr>\n",
              "      <th id=\"T_5b41d_level0_row15\" class=\"row_heading level0 row15\" >16</th>\n",
              "      <td id=\"T_5b41d_row15_col0\" class=\"data row15 col0\" >meeting</td>\n",
              "      <td id=\"T_5b41d_row15_col1\" class=\"data row15 col1\" >121</td>\n",
              "    </tr>\n",
              "    <tr>\n",
              "      <th id=\"T_5b41d_level0_row16\" class=\"row_heading level0 row16\" >17</th>\n",
              "      <td id=\"T_5b41d_row16_col0\" class=\"data row16 col0\" >prime</td>\n",
              "      <td id=\"T_5b41d_row16_col1\" class=\"data row16 col1\" >115</td>\n",
              "    </tr>\n",
              "    <tr>\n",
              "      <th id=\"T_5b41d_level0_row17\" class=\"row_heading level0 row17\" >18</th>\n",
              "      <td id=\"T_5b41d_row17_col0\" class=\"data row17 col0\" >minister</td>\n",
              "      <td id=\"T_5b41d_row17_col1\" class=\"data row17 col1\" >114</td>\n",
              "    </tr>\n",
              "    <tr>\n",
              "      <th id=\"T_5b41d_level0_row18\" class=\"row_heading level0 row18\" >19</th>\n",
              "      <td id=\"T_5b41d_row18_col0\" class=\"data row18 col0\" >people</td>\n",
              "      <td id=\"T_5b41d_row18_col1\" class=\"data row18 col1\" >108</td>\n",
              "    </tr>\n",
              "  </tbody>\n",
              "</table>\n"
            ]
          },
          "metadata": {},
          "execution_count": 230
        }
      ]
    },
    {
      "cell_type": "markdown",
      "source": [
        "Are we can see, now the different topics use clearly different words."
      ],
      "metadata": {
        "id": "CqDLnouWlC9d"
      }
    },
    {
      "cell_type": "code",
      "source": [
        "def plot_wordcloud(text, mask=None, max_words=200, max_font_size=100, figure_size=(24.0,16.0), color = 'white',\n",
        "                   title = None, title_size=40, image_color=False):\n",
        "    stopwords = set(STOPWORDS)\n",
        "    more_stopwords = {'u', \"im\"}\n",
        "    stopwords = stopwords.union(more_stopwords)\n",
        "\n",
        "    wordcloud = WordCloud(background_color=color,\n",
        "                    stopwords = stopwords,\n",
        "                    max_words = max_words,\n",
        "                    max_font_size = max_font_size,\n",
        "                    random_state = 42,\n",
        "                    width=400,\n",
        "                    height=200,\n",
        "                    mask = mask)\n",
        "    wordcloud.generate(str(text).replace(\"'\",''))\n",
        "\n",
        "    plt.figure(figsize=figure_size)\n",
        "    if image_color:\n",
        "        image_colors = ImageColorGenerator(mask);\n",
        "        plt.imshow(wordcloud.recolor(color_func=image_colors), interpolation=\"bilinear\");\n",
        "        plt.title(title, fontdict={'size': title_size,\n",
        "                                  'verticalalignment': 'bottom'})\n",
        "    else:\n",
        "        plt.imshow(wordcloud);\n",
        "        plt.title(title, fontdict={'size': title_size, 'color': 'black',\n",
        "                                  'verticalalignment': 'bottom'})\n",
        "    plt.axis('off');\n",
        "    # plt.tight_layout()"
      ],
      "metadata": {
        "id": "Zqc-ZLx3kvFN"
      },
      "execution_count": 231,
      "outputs": []
    },
    {
      "cell_type": "markdown",
      "source": [
        "## Wordclouds\n",
        "\n",
        "Let's visualize the most used words per category with wordclouds."
      ],
      "metadata": {
        "id": "uHelTC6alJOl"
      }
    },
    {
      "cell_type": "markdown",
      "source": [
        "### Sports wordcloud"
      ],
      "metadata": {
        "id": "gBrID__4lM2w"
      }
    },
    {
      "cell_type": "code",
      "source": [
        "plot_wordcloud(top_sports.most_common(40),color='white',max_font_size=100,title_size=30,title=\"WordCloud of Sport-related Tweets\")"
      ],
      "metadata": {
        "colab": {
          "base_uri": "https://localhost:8080/",
          "height": 700
        },
        "id": "rcIVn01ukvOU",
        "outputId": "620ff0e8-cc8c-4d2a-db03-44bd9f6e69ee"
      },
      "execution_count": 232,
      "outputs": [
        {
          "output_type": "display_data",
          "data": {
            "text/plain": [
              "<Figure size 2400x1600 with 1 Axes>"
            ],
            "image/png": "[encoded data removed]"
          },
          "metadata": {}
        }
      ]
    },
    {
      "cell_type": "markdown",
      "source": [
        "### Politics wordcloud"
      ],
      "metadata": {
        "id": "qZCCwUUtlUtx"
      }
    },
    {
      "cell_type": "code",
      "source": [
        "plot_wordcloud(top_sports.most_common(40),color='white',max_font_size=100,title_size=30,title=\"WordCloud of Sport-related Tweets\")"
      ],
      "metadata": {
        "colab": {
          "base_uri": "https://localhost:8080/",
          "height": 700
        },
        "id": "-8txb2KklXk3",
        "outputId": "61b7c7a0-7b2d-461c-f176-d36e0587e657"
      },
      "execution_count": 233,
      "outputs": [
        {
          "output_type": "display_data",
          "data": {
            "text/plain": [
              "<Figure size 2400x1600 with 1 Axes>"
            ],
            "image/png": "[encoded data removed]"
          },
          "metadata": {}
        }
      ]
    },
    {
      "cell_type": "markdown",
      "source": [
        "# Feature extraction\n",
        "\n",
        "Feature extraction is the process of extracting useful features from raw data. We are going to use different approaches to study our data."
      ],
      "metadata": {
        "id": "HUoXfRqnld9c"
      }
    },
    {
      "cell_type": "markdown",
      "source": [
        "## Word Frequency\n",
        "\n",
        "Our first approach will be looking at word frequency. Word frequency is a feature extraction method used in natural language processing and information retrieval that involves counting the frequency of each word in a corpus of documents, and using the resulting counts as features."
      ],
      "metadata": {
        "id": "G41FNdCOliXX"
      }
    },
    {
      "cell_type": "code",
      "source": [
        "train_tweet_tokens = train['WordList']\n",
        "\n",
        "# Get a set of all the unique words\n",
        "train_vocab = set([word for tweet in train_tweet_tokens for word in tweet])\n",
        "\n",
        "# Convert the set back to a list\n",
        "train_vocab = list(train_vocab)\n",
        "\n",
        "# Create a one-hot encoded matrix\n",
        "X_train = np.zeros((len(train_tweet_tokens), len(train_vocab)))\n",
        "\n",
        "# Iterate over the tweet tokens and vocab and fill in the matrix\n",
        "for i, tweet in tqdm(enumerate(train_tweet_tokens), total=len(train_tweet_tokens)):\n",
        "    for j, word in enumerate(train_vocab):\n",
        "        X_train[i, j] = tweet.count(word)\n",
        "        # print(X_train[i,j])"
      ],
      "metadata": {
        "colab": {
          "base_uri": "https://localhost:8080/",
          "height": 49,
          "referenced_widgets": [
            "cf324282be2d45e1b995b316a39a2789",
            "6eea3c38c53d4eaf8e8b0a3b4774f201",
            "07d6a10555dd4dc992f9bda1d770faea",
            "e203d6a7882d466082fc13c81c9c1ecd",
            "013061e30cb143669e7fa2d24a19c2b8",
            "ff621a4c6e004d5a87a8a44a661544c8",
            "642f14d3fe0a426a8687f2df89f026ba",
            "fdd0ac8831b8447aa4a40b14d326b88d",
            "fc0b6e9e5f4a41039dd5703c496a8739",
            "e5be064ce20048e4a50f708cef238549",
            "09aa169255d7442ab75289906c2854b9"
          ]
        },
        "id": "GxucwvszlXrl",
        "outputId": "7fd38212-1351-4e99-ca87-a193aec68f4e"
      },
      "execution_count": 234,
      "outputs": [
        {
          "output_type": "display_data",
          "data": {
            "text/plain": [
              "  0%|          | 0/6525 [00:00<?, ?it/s]"
            ],
            "application/vnd.jupyter.widget-view+json": {
              "version_major": 2,
              "version_minor": 0,
              "model_id": "cf324282be2d45e1b995b316a39a2789"
            }
          },
          "metadata": {}
        }
      ]
    },
    {
      "cell_type": "code",
      "source": [
        "y_train = train['Label'].to_numpy()"
      ],
      "metadata": {
        "id": "x68g5hmIlXx6"
      },
      "execution_count": 235,
      "outputs": []
    },
    {
      "cell_type": "code",
      "source": [
        "y_train"
      ],
      "metadata": {
        "colab": {
          "base_uri": "https://localhost:8080/"
        },
        "id": "6TAaPTyUl3Qr",
        "outputId": "0ce387ba-c957-4ed5-e723-539183617537"
      },
      "execution_count": 236,
      "outputs": [
        {
          "output_type": "execute_result",
          "data": {
            "text/plain": [
              "array(['Politics', 'Politics', 'Sports', ..., 'Sports', 'Sports',\n",
              "       'Politics'], dtype=object)"
            ]
          },
          "metadata": {},
          "execution_count": 236
        }
      ]
    },
    {
      "cell_type": "code",
      "source": [
        "test_tweet_tokens = test['WordList']\n",
        "X_test = np.zeros((len(test_tweet_tokens), len(train_vocab)))\n",
        "\n",
        "for i, tweet in tqdm(enumerate(test_tweet_tokens), total=len(test_tweet_tokens)):\n",
        "    for j, word in enumerate(train_vocab):\n",
        "        X_test[i, j] = tweet.count(word)\n",
        "        # print(X_test[i,j])"
      ],
      "metadata": {
        "colab": {
          "base_uri": "https://localhost:8080/",
          "height": 49,
          "referenced_widgets": [
            "cb39711a86a541e2adf58d5f0d665892",
            "1292d53a11784c4db9512a7e470fb790",
            "6d9fda8dad9d4403b3a84fc935df428f",
            "04487cb9ed0f4611a7d21dfb79b67b18",
            "962aed21a8a748949afb8b4399d09ae4",
            "4ba9c13d268845f087255c55efb8cb69",
            "ed8bbad64a0946ab83d70db4c631d63b",
            "7f8cfdd673d1412eaa9ef64f7d8a4d64",
            "15f18aaea8084d84a77ebaa3b1cc5dc3",
            "26245a6076b143259bf05a1ced63b408",
            "51eb2e60ce7d434a80b923433d402271"
          ]
        },
        "id": "qrvCYk9ZmXeN",
        "outputId": "a2ed2485-e6bb-47d8-81d3-f2d5bc99b4b8"
      },
      "execution_count": 237,
      "outputs": [
        {
          "output_type": "display_data",
          "data": {
            "text/plain": [
              "  0%|          | 0/2610 [00:00<?, ?it/s]"
            ],
            "application/vnd.jupyter.widget-view+json": {
              "version_major": 2,
              "version_minor": 0,
              "model_id": "cb39711a86a541e2adf58d5f0d665892"
            }
          },
          "metadata": {}
        }
      ]
    },
    {
      "cell_type": "markdown",
      "source": [
        "We compare the vocabs in the train and test set."
      ],
      "metadata": {
        "id": "iJMKkif0maxK"
      }
    },
    {
      "cell_type": "code",
      "source": [
        "test_tweet_tokens = test['WordList']\n",
        "\n",
        "# Get a set of all the unique words\n",
        "test_vocab = set([word for tweet in test_tweet_tokens for word in tweet])\n",
        "\n",
        "# Convert the set back to a list\n",
        "test_vocab = list(test_vocab)"
      ],
      "metadata": {
        "id": "APfe-eBKmb-x"
      },
      "execution_count": 238,
      "outputs": []
    },
    {
      "cell_type": "code",
      "source": [
        "print(len(train_vocab), len(test_vocab))"
      ],
      "metadata": {
        "colab": {
          "base_uri": "https://localhost:8080/"
        },
        "id": "ojAlfpbzmcG1",
        "outputId": "6ce6d302-10fd-4fba-e641-90e56ce1a213"
      },
      "execution_count": 239,
      "outputs": [
        {
          "output_type": "stream",
          "name": "stdout",
          "text": [
            "14727 7456\n"
          ]
        }
      ]
    },
    {
      "cell_type": "markdown",
      "source": [
        "The test set has a much smaller pool of words. Let's see if there are any words\n",
        "in the test set that aren't in the train set."
      ],
      "metadata": {
        "id": "Y7DmU_HKmpEq"
      }
    },
    {
      "cell_type": "code",
      "source": [
        "if all(word in train_vocab for word in test_vocab):\n",
        "  print(\"All words in test_vocab are present in train_vocab\")\n",
        "else:\n",
        "  print(\"Not all words in test_vocab are present in train_vocab\")"
      ],
      "metadata": {
        "colab": {
          "base_uri": "https://localhost:8080/"
        },
        "id": "Ks1z4x8zmcMv",
        "outputId": "50ed0c03-9c69-49c9-fd74-0e970ae5158c"
      },
      "execution_count": 240,
      "outputs": [
        {
          "output_type": "stream",
          "name": "stdout",
          "text": [
            "Not all words in test_vocab are present in train_vocab\n"
          ]
        }
      ]
    },
    {
      "cell_type": "markdown",
      "source": [
        "Let's see how many."
      ],
      "metadata": {
        "id": "hLQYFcJ0myGP"
      }
    },
    {
      "cell_type": "code",
      "source": [
        "len([word for word in test_vocab if word not in train_vocab])"
      ],
      "metadata": {
        "colab": {
          "base_uri": "https://localhost:8080/"
        },
        "id": "ngYo5G3bm0H2",
        "outputId": "79a5eaab-af83-4ac6-f4a6-4a0ca9e5e67a"
      },
      "execution_count": 241,
      "outputs": [
        {
          "output_type": "execute_result",
          "data": {
            "text/plain": [
              "3628"
            ]
          },
          "metadata": {},
          "execution_count": 241
        }
      ]
    },
    {
      "cell_type": "markdown",
      "source": [
        "About half of the words in the test set are not in the train set. This tells us that word frequency is not going to be a very useful predictor on the test set, since most of the context is going to be different. Let us proceed anyhow."
      ],
      "metadata": {
        "id": "cWuIK-vQm5B1"
      }
    },
    {
      "cell_type": "markdown",
      "source": [
        "Let's see how our train matrix looks like."
      ],
      "metadata": {
        "id": "53LZzzPQm6M4"
      }
    },
    {
      "cell_type": "code",
      "source": [
        "plt.spy(X_train)"
      ],
      "metadata": {
        "colab": {
          "base_uri": "https://localhost:8080/",
          "height": 302
        },
        "id": "JpKJn8BXm9Rj",
        "outputId": "487d862f-5726-4d32-e175-9fba6a967101"
      },
      "execution_count": 242,
      "outputs": [
        {
          "output_type": "execute_result",
          "data": {
            "text/plain": [
              "<matplotlib.image.AxesImage at 0x7f1e03215720>"
            ]
          },
          "metadata": {},
          "execution_count": 242
        },
        {
          "output_type": "display_data",
          "data": {
            "text/plain": [
              "<Figure size 640x480 with 1 Axes>"
            ],
            "image/png": "[encoded data removed]"
          },
          "metadata": {}
        }
      ]
    },
    {
      "cell_type": "markdown",
      "source": [
        "We can see it's extremely sparse. Some dimentionality reduction would be useful."
      ],
      "metadata": {
        "id": "v3fVDXXenDyr"
      }
    },
    {
      "cell_type": "markdown",
      "source": [
        "### Frequency Threshold\n",
        "\n",
        "To reduce the dimensionality of the dataset, we can put a theshold on the minimum frequency a word needs to have to appear as a feature."
      ],
      "metadata": {
        "id": "GmXRaHBtnIiZ"
      }
    },
    {
      "cell_type": "code",
      "source": [
        "train_vocab_freqs = np.sum(X_train, axis=0)\n",
        "\n",
        "# Get the list of words\n",
        "words = [word for word in train_vocab]\n",
        "\n",
        "# Create a dataframe with the words and frequencies\n",
        "word_frequencies = pd.DataFrame({'Word': train_vocab, 'Frequency': train_vocab_freqs})\n",
        "\n",
        "# Sort the dataframe by frequency in descending order\n",
        "word_frequencies = word_frequencies.sort_values(by='Frequency', ascending=False)\n",
        "\n",
        "# Display the dataframe\n",
        "print(word_frequencies)"
      ],
      "metadata": {
        "colab": {
          "base_uri": "https://localhost:8080/"
        },
        "id": "sE0ZtQ5jm9e5",
        "outputId": "59b7afe6-b07d-462a-fd93-90177f9846ad"
      },
      "execution_count": 243,
      "outputs": [
        {
          "output_type": "stream",
          "name": "stdout",
          "text": [
            "            Word  Frequency\n",
            "10864         rt      891.0\n",
            "10872        amp      599.0\n",
            "11445    indvaus      347.0\n",
            "3473   president      330.0\n",
            "8534        test      328.0\n",
            "...          ...        ...\n",
            "8881         bag        1.0\n",
            "3763       chips        1.0\n",
            "8879   intervene        1.0\n",
            "8878   mustreads        1.0\n",
            "14726   sayasone        1.0\n",
            "\n",
            "[14727 rows x 2 columns]\n"
          ]
        }
      ]
    },
    {
      "cell_type": "code",
      "source": [
        "plt.plot(word_frequencies['Word'], word_frequencies['Frequency'])\n",
        "\n",
        "plt.title('Word Frequencies')\n",
        "plt.ylabel('Frequency')\n",
        "plt.xlabel('Word')\n",
        "plt.xticks(range(0, len(word_frequencies['Word']),500), range(0, len(word_frequencies['Word']),500), rotation=90)\n",
        "\n",
        "# Show the plot\n",
        "plt.show()"
      ],
      "metadata": {
        "colab": {
          "base_uri": "https://localhost:8080/",
          "height": 502
        },
        "id": "VDosWWtFnNW-",
        "outputId": "2f61ed50-452f-42a0-d8f6-cdca7d95a2e0"
      },
      "execution_count": 244,
      "outputs": [
        {
          "output_type": "display_data",
          "data": {
            "text/plain": [
              "<Figure size 640x480 with 1 Axes>"
            ],
            "image/png": "[encoded data removed]"
          },
          "metadata": {}
        }
      ]
    },
    {
      "cell_type": "markdown",
      "source": [
        "Only the words in the top 1000 have high usage, after that usage drops drastically. We could probably discard a lot of those words without losing much accuracy."
      ],
      "metadata": {
        "id": "YVwVI2X4nSSh"
      }
    },
    {
      "cell_type": "code",
      "source": [
        "plt.plot(word_frequencies['Word'][0:1000], word_frequencies['Frequency'][0:1000])\n",
        "\n",
        "plt.title('Word Frequencies')\n",
        "plt.ylabel('Frequency')\n",
        "plt.xlabel('Word')\n",
        "plt.xticks(range(0, 1000, 50), range(0, 1000, 50), rotation=90)\n",
        "\n",
        "plt.show()"
      ],
      "metadata": {
        "colab": {
          "base_uri": "https://localhost:8080/",
          "height": 484
        },
        "id": "-gnB6HsdnTsZ",
        "outputId": "73483d41-b069-4c1c-af1d-d8c35258c6bb"
      },
      "execution_count": 245,
      "outputs": [
        {
          "output_type": "display_data",
          "data": {
            "text/plain": [
              "<Figure size 640x480 with 1 Axes>"
            ],
            "image/png": "[encoded data removed]"
          },
          "metadata": {}
        }
      ]
    },
    {
      "cell_type": "code",
      "source": [
        "# Sort dataset columns by descending word frequencies\n",
        "X_train_1 = X_train[:, list(word_frequencies.index)]\n",
        "X_test_1 = X_test[:, list(word_frequencies.index)]"
      ],
      "metadata": {
        "id": "IttPPiNfnT2G"
      },
      "execution_count": 246,
      "outputs": []
    },
    {
      "cell_type": "code",
      "source": [
        "# Cut the dataset by minimum frequency\n",
        "def frequency_threshold_cut(dataset, threshold):\n",
        "    return dataset[:, 0:threshold]"
      ],
      "metadata": {
        "id": "BVAms2sgoPKz"
      },
      "execution_count": 247,
      "outputs": []
    },
    {
      "cell_type": "markdown",
      "source": [
        "### PCA\n",
        "\n",
        "We will use Principal Component Analysis to reduce the dimentionality of the word frequency reperesention by adjusting the number of principal components."
      ],
      "metadata": {
        "id": "DOvy3Aq1oj54"
      }
    },
    {
      "cell_type": "code",
      "source": [
        "pca = PCA(n_components=2)\n",
        "\n",
        "pca.fit(X_train)\n",
        "\n",
        "X_train_pca = pca.transform(X_train)\n",
        "\n",
        "# Extract the data projected to the principal components\n",
        "x = X_train_pca[:, 0]\n",
        "y = X_train_pca[:, 1]\n",
        "\n"
      ],
      "metadata": {
        "id": "MUrfki8XoPVh"
      },
      "execution_count": 45,
      "outputs": []
    },
    {
      "cell_type": "code",
      "source": [
        "# Create a scatter plot with different colors for the points\n",
        "plt.scatter(x, y, c=[1 if label=='Politics' else 0 for label in y_train])\n",
        "\n",
        "# Show the plot\n",
        "plt.show()"
      ],
      "metadata": {
        "colab": {
          "base_uri": "https://localhost:8080/",
          "height": 430
        },
        "id": "-jBZSWdaoPdK",
        "outputId": "380eb1da-5a3d-4f14-d698-1704b4a24865"
      },
      "execution_count": 44,
      "outputs": [
        {
          "output_type": "display_data",
          "data": {
            "text/plain": [
              "<Figure size 640x480 with 1 Axes>"
            ],
            "image/png": "[encoded data removed]"
          },
          "metadata": {}
        }
      ]
    },
    {
      "cell_type": "markdown",
      "source": [
        "The graph shows that the majority of the *Sports* tweets and the *Politics* tweets can be separated with just 2 principal components."
      ],
      "metadata": {
        "id": "ZY563FbxpHpj"
      }
    },
    {
      "cell_type": "code",
      "source": [
        "max_rank = min(X_train.shape[0], X_train.shape[1])\n",
        "\n",
        "pca = PCA(max_rank)\n",
        "\n",
        "pca.fit(X_train)"
      ],
      "metadata": {
        "colab": {
          "base_uri": "https://localhost:8080/",
          "height": 75
        },
        "id": "r5mAhu7uoPkA",
        "outputId": "f3cd08ec-536a-42b1-d2da-105314714ff3"
      },
      "execution_count": 46,
      "outputs": [
        {
          "output_type": "execute_result",
          "data": {
            "text/plain": [
              "PCA(n_components=6525)"
            ],
            "text/html": [
              "<style>#sk-container-id-1 {color: black;background-color: white;}#sk-container-id-1 pre{padding: 0;}#sk-container-id-1 div.sk-toggleable {background-color: white;}#sk-container-id-1 label.sk-toggleable__label {cursor: pointer;display: block;width: 100%;margin-bottom: 0;padding: 0.3em;box-sizing: border-box;text-align: center;}#sk-container-id-1 label.sk-toggleable__label-arrow:before {content: \"▸\";float: left;margin-right: 0.25em;color: #696969;}#sk-container-id-1 label.sk-toggleable__label-arrow:hover:before {color: black;}#sk-container-id-1 div.sk-estimator:hover label.sk-toggleable__label-arrow:before {color: black;}#sk-container-id-1 div.sk-toggleable__content {max-height: 0;max-width: 0;overflow: hidden;text-align: left;background-color: #f0f8ff;}#sk-container-id-1 div.sk-toggleable__content pre {margin: 0.2em;color: black;border-radius: 0.25em;background-color: #f0f8ff;}#sk-container-id-1 input.sk-toggleable__control:checked~div.sk-toggleable__content {max-height: 200px;max-width: 100%;overflow: auto;}#sk-container-id-1 input.sk-toggleable__control:checked~label.sk-toggleable__label-arrow:before {content: \"▾\";}#sk-container-id-1 div.sk-estimator input.sk-toggleable__control:checked~label.sk-toggleable__label {background-color: #d4ebff;}#sk-container-id-1 div.sk-label input.sk-toggleable__control:checked~label.sk-toggleable__label {background-color: #d4ebff;}#sk-container-id-1 input.sk-hidden--visually {border: 0;clip: rect(1px 1px 1px 1px);clip: rect(1px, 1px, 1px, 1px);height: 1px;margin: -1px;overflow: hidden;padding: 0;position: absolute;width: 1px;}#sk-container-id-1 div.sk-estimator {font-family: monospace;background-color: #f0f8ff;border: 1px dotted black;border-radius: 0.25em;box-sizing: border-box;margin-bottom: 0.5em;}#sk-container-id-1 div.sk-estimator:hover {background-color: #d4ebff;}#sk-container-id-1 div.sk-parallel-item::after {content: \"\";width: 100%;border-bottom: 1px solid gray;flex-grow: 1;}#sk-container-id-1 div.sk-label:hover label.sk-toggleable__label {background-color: #d4ebff;}#sk-container-id-1 div.sk-serial::before {content: \"\";position: absolute;border-left: 1px solid gray;box-sizing: border-box;top: 0;bottom: 0;left: 50%;z-index: 0;}#sk-container-id-1 div.sk-serial {display: flex;flex-direction: column;align-items: center;background-color: white;padding-right: 0.2em;padding-left: 0.2em;position: relative;}#sk-container-id-1 div.sk-item {position: relative;z-index: 1;}#sk-container-id-1 div.sk-parallel {display: flex;align-items: stretch;justify-content: center;background-color: white;position: relative;}#sk-container-id-1 div.sk-item::before, #sk-container-id-1 div.sk-parallel-item::before {content: \"\";position: absolute;border-left: 1px solid gray;box-sizing: border-box;top: 0;bottom: 0;left: 50%;z-index: -1;}#sk-container-id-1 div.sk-parallel-item {display: flex;flex-direction: column;z-index: 1;position: relative;background-color: white;}#sk-container-id-1 div.sk-parallel-item:first-child::after {align-self: flex-end;width: 50%;}#sk-container-id-1 div.sk-parallel-item:last-child::after {align-self: flex-start;width: 50%;}#sk-container-id-1 div.sk-parallel-item:only-child::after {width: 0;}#sk-container-id-1 div.sk-dashed-wrapped {border: 1px dashed gray;margin: 0 0.4em 0.5em 0.4em;box-sizing: border-box;padding-bottom: 0.4em;background-color: white;}#sk-container-id-1 div.sk-label label {font-family: monospace;font-weight: bold;display: inline-block;line-height: 1.2em;}#sk-container-id-1 div.sk-label-container {text-align: center;}#sk-container-id-1 div.sk-container {/* jupyter's `normalize.less` sets `[hidden] { display: none; }` but bootstrap.min.css set `[hidden] { display: none !important; }` so we also need the `!important` here to be able to override the default hidden behavior on the sphinx rendered scikit-learn.org. See: https://github.com/scikit-learn/scikit-learn/issues/21755 */display: inline-block !important;position: relative;}#sk-container-id-1 div.sk-text-repr-fallback {display: none;}</style><div id=\"sk-container-id-1\" class=\"sk-top-container\"><div class=\"sk-text-repr-fallback\"><pre>PCA(n_components=6525)</pre><b>In a Jupyter environment, please rerun this cell to show the HTML representation or trust the notebook. <br />On GitHub, the HTML representation is unable to render, please try loading this page with nbviewer.org.</b></div><div class=\"sk-container\" hidden><div class=\"sk-item\"><div class=\"sk-estimator sk-toggleable\"><input class=\"sk-toggleable__control sk-hidden--visually\" id=\"sk-estimator-id-1\" type=\"checkbox\" checked><label for=\"sk-estimator-id-1\" class=\"sk-toggleable__label sk-toggleable__label-arrow\">PCA</label><div class=\"sk-toggleable__content\"><pre>PCA(n_components=6525)</pre></div></div></div></div></div>"
            ]
          },
          "metadata": {},
          "execution_count": 46
        }
      ]
    },
    {
      "cell_type": "code",
      "source": [
        "def pca_reduce_dimensionality(pca, dataset, n_components):\n",
        "    pca_n_comps = copy.deepcopy(pca)\n",
        "    pca_n_comps.n_components_ = n_components\n",
        "    pca_n_comps.components_ = pca.components_[0:n_components]\n",
        "\n",
        "    return pca_n_comps.transform(dataset)"
      ],
      "metadata": {
        "id": "CC1uznCKpQs8"
      },
      "execution_count": 47,
      "outputs": []
    },
    {
      "cell_type": "markdown",
      "source": [
        "## TF-IDF\n",
        "\n",
        "Term Frequency - Inverse Document Frequency (TF-IDF) is a statistical measure that is used to evaluate the importance of a word in a document or a collection of documents by multiplying the term frequency by the inverse document frequency for each word in a document. The resulting value is higher for words that are more important to the meaning of the document, and lower for words that are less important or more common."
      ],
      "metadata": {
        "id": "FOzsJUBupcu3"
      }
    },
    {
      "cell_type": "code",
      "source": [
        "# from scipy.sparse import vstack\n",
        "\n",
        "tfidf = TfidfVectorizer()\n",
        "tfidf_train = tfidf.fit(train['CleanTweetText'])\n",
        "tfidf_test = tfidf.fit(test['CleanTweetText'])\n",
        "X_train_tfidf = tfidf_train.transform(train['CleanTweetText'])\n",
        "X_test_tfidf = tfidf_test.transform(test['CleanTweetText'])\n",
        "\n",
        "# # Define the number of topics or components\n",
        "# num_components=500\n",
        "\n",
        "# # Create SVD object\n",
        "# lsa = TruncatedSVD(n_components=num_components, n_iter=100, random_state=42)\n",
        "\n",
        "# # Fit SVD model on data\n",
        "# lsa.fit(vstack((X_train_tfidf, X_test_tfidf)))\n",
        "# X_train_lsa = lsa.transform(X_train_tfidf)\n",
        "# X_test_lsa = lsa.transform(X_test_tfidf)"
      ],
      "metadata": {
        "id": "2hZIewA4pQ19"
      },
      "execution_count": 164,
      "outputs": []
    },
    {
      "cell_type": "code",
      "source": [
        "X_train_tfidf.shape\n"
      ],
      "metadata": {
        "colab": {
          "base_uri": "https://localhost:8080/"
        },
        "id": "Hxp5eglFBx45",
        "outputId": "6158f9f8-09b0-40e8-c310-622f7d71e19d"
      },
      "execution_count": 165,
      "outputs": [
        {
          "output_type": "execute_result",
          "data": {
            "text/plain": [
              "(6525, 7550)"
            ]
          },
          "metadata": {},
          "execution_count": 165
        }
      ]
    },
    {
      "cell_type": "markdown",
      "source": [
        "## E5\n",
        "\n",
        "Text embedding is a technique used to map words or phrases in a text to a numerical vector space. The goal of text embedding is to capture the meaning of the words and the relationships between them in a way that can be used by machine learning models.\n",
        "\n",
        "There are several different methods for creating text embeddings. They all involve training a model on a large dataset of text, such as a corpus of news articles or a collection of Wikipedia pages. The model learns to predict the likelihood of a word occurring given the context of the surrounding words, and uses this information to create a high-dimensional vector representation of each word.\n",
        "\n",
        "Text embeddings are useful because they allow machine learning models to take into account the meaning of words in a text, rather than just treating them as individual tokens. This makes it possible to use the embeddings to perform tasks such as text classification, language translation, and text generation.\n",
        "\n",
        "E5 is a family of state-of-the-art text embeddings that transfer well to a wide range of tasks. The model is trained in a contrastive manner with weak supervision signals from a curated large-scale text pair dataset.\n",
        "\n",
        "*Text Embeddings by Weakly-Supervised Contrastive Pre-training. Liang Wang, Nan Yang, Xiaolong Huang, Binxing Jiao, Linjun Yang, Daxin Jiang, Rangan Majumder, Furu Wei, arXiv 2022*"
      ],
      "metadata": {
        "id": "QA38ZGOmeyx9"
      }
    },
    {
      "cell_type": "markdown",
      "source": [
        "## Model Training."
      ],
      "metadata": {
        "id": "j94FHtRZerT7"
      }
    },
    {
      "cell_type": "code",
      "source": [
        "y_train = train['Label'].to_numpy()\n",
        "y_train"
      ],
      "metadata": {
        "colab": {
          "base_uri": "https://localhost:8080/"
        },
        "id": "jgMP3352-3QR",
        "outputId": "3876d27e-b9dc-4910-961e-18658078ca00"
      },
      "execution_count": 249,
      "outputs": [
        {
          "output_type": "execute_result",
          "data": {
            "text/plain": [
              "array(['Politics', 'Politics', 'Sports', ..., 'Sports', 'Sports',\n",
              "       'Politics'], dtype=object)"
            ]
          },
          "metadata": {},
          "execution_count": 249
        }
      ]
    },
    {
      "cell_type": "code",
      "source": [
        "# Split the data into training and testing sets\n",
        "X_train, X_test, y_train, y_test = train_test_split(X_train_tfidf, y_train, test_size=0.2, random_state=142)\n",
        "\n",
        "# Train the model\n",
        "model = MultinomialNB(alpha=2)\n",
        "model.fit(X_train, y_train)"
      ],
      "metadata": {
        "colab": {
          "base_uri": "https://localhost:8080/",
          "height": 75
        },
        "id": "M4ckveIfJzaD",
        "outputId": "8e1c45a9-abd9-4e05-a486-02500f46d92b"
      },
      "execution_count": 167,
      "outputs": [
        {
          "output_type": "execute_result",
          "data": {
            "text/plain": [
              "MultinomialNB(alpha=2)"
            ],
            "text/html": [
              "<style>#sk-container-id-4 {color: black;background-color: white;}#sk-container-id-4 pre{padding: 0;}#sk-container-id-4 div.sk-toggleable {background-color: white;}#sk-container-id-4 label.sk-toggleable__label {cursor: pointer;display: block;width: 100%;margin-bottom: 0;padding: 0.3em;box-sizing: border-box;text-align: center;}#sk-container-id-4 label.sk-toggleable__label-arrow:before {content: \"▸\";float: left;margin-right: 0.25em;color: #696969;}#sk-container-id-4 label.sk-toggleable__label-arrow:hover:before {color: black;}#sk-container-id-4 div.sk-estimator:hover label.sk-toggleable__label-arrow:before {color: black;}#sk-container-id-4 div.sk-toggleable__content {max-height: 0;max-width: 0;overflow: hidden;text-align: left;background-color: #f0f8ff;}#sk-container-id-4 div.sk-toggleable__content pre {margin: 0.2em;color: black;border-radius: 0.25em;background-color: #f0f8ff;}#sk-container-id-4 input.sk-toggleable__control:checked~div.sk-toggleable__content {max-height: 200px;max-width: 100%;overflow: auto;}#sk-container-id-4 input.sk-toggleable__control:checked~label.sk-toggleable__label-arrow:before {content: \"▾\";}#sk-container-id-4 div.sk-estimator input.sk-toggleable__control:checked~label.sk-toggleable__label {background-color: #d4ebff;}#sk-container-id-4 div.sk-label input.sk-toggleable__control:checked~label.sk-toggleable__label {background-color: #d4ebff;}#sk-container-id-4 input.sk-hidden--visually {border: 0;clip: rect(1px 1px 1px 1px);clip: rect(1px, 1px, 1px, 1px);height: 1px;margin: -1px;overflow: hidden;padding: 0;position: absolute;width: 1px;}#sk-container-id-4 div.sk-estimator {font-family: monospace;background-color: #f0f8ff;border: 1px dotted black;border-radius: 0.25em;box-sizing: border-box;margin-bottom: 0.5em;}#sk-container-id-4 div.sk-estimator:hover {background-color: #d4ebff;}#sk-container-id-4 div.sk-parallel-item::after {content: \"\";width: 100%;border-bottom: 1px solid gray;flex-grow: 1;}#sk-container-id-4 div.sk-label:hover label.sk-toggleable__label {background-color: #d4ebff;}#sk-container-id-4 div.sk-serial::before {content: \"\";position: absolute;border-left: 1px solid gray;box-sizing: border-box;top: 0;bottom: 0;left: 50%;z-index: 0;}#sk-container-id-4 div.sk-serial {display: flex;flex-direction: column;align-items: center;background-color: white;padding-right: 0.2em;padding-left: 0.2em;position: relative;}#sk-container-id-4 div.sk-item {position: relative;z-index: 1;}#sk-container-id-4 div.sk-parallel {display: flex;align-items: stretch;justify-content: center;background-color: white;position: relative;}#sk-container-id-4 div.sk-item::before, #sk-container-id-4 div.sk-parallel-item::before {content: \"\";position: absolute;border-left: 1px solid gray;box-sizing: border-box;top: 0;bottom: 0;left: 50%;z-index: -1;}#sk-container-id-4 div.sk-parallel-item {display: flex;flex-direction: column;z-index: 1;position: relative;background-color: white;}#sk-container-id-4 div.sk-parallel-item:first-child::after {align-self: flex-end;width: 50%;}#sk-container-id-4 div.sk-parallel-item:last-child::after {align-self: flex-start;width: 50%;}#sk-container-id-4 div.sk-parallel-item:only-child::after {width: 0;}#sk-container-id-4 div.sk-dashed-wrapped {border: 1px dashed gray;margin: 0 0.4em 0.5em 0.4em;box-sizing: border-box;padding-bottom: 0.4em;background-color: white;}#sk-container-id-4 div.sk-label label {font-family: monospace;font-weight: bold;display: inline-block;line-height: 1.2em;}#sk-container-id-4 div.sk-label-container {text-align: center;}#sk-container-id-4 div.sk-container {/* jupyter's `normalize.less` sets `[hidden] { display: none; }` but bootstrap.min.css set `[hidden] { display: none !important; }` so we also need the `!important` here to be able to override the default hidden behavior on the sphinx rendered scikit-learn.org. See: https://github.com/scikit-learn/scikit-learn/issues/21755 */display: inline-block !important;position: relative;}#sk-container-id-4 div.sk-text-repr-fallback {display: none;}</style><div id=\"sk-container-id-4\" class=\"sk-top-container\"><div class=\"sk-text-repr-fallback\"><pre>MultinomialNB(alpha=2)</pre><b>In a Jupyter environment, please rerun this cell to show the HTML representation or trust the notebook. <br />On GitHub, the HTML representation is unable to render, please try loading this page with nbviewer.org.</b></div><div class=\"sk-container\" hidden><div class=\"sk-item\"><div class=\"sk-estimator sk-toggleable\"><input class=\"sk-toggleable__control sk-hidden--visually\" id=\"sk-estimator-id-4\" type=\"checkbox\" checked><label for=\"sk-estimator-id-4\" class=\"sk-toggleable__label sk-toggleable__label-arrow\">MultinomialNB</label><div class=\"sk-toggleable__content\"><pre>MultinomialNB(alpha=2)</pre></div></div></div></div></div>"
            ]
          },
          "metadata": {},
          "execution_count": 167
        }
      ]
    },
    {
      "cell_type": "code",
      "source": [
        "y_predict = model.predict(X_train)\n",
        "\n",
        "print(\"{}\\nscore train: {:.2} test: {:.2}\".format(\n",
        "    classification_report(y_train, y_predict),\n",
        "    model.score(X_train, y_train), model.score(X_test, y_test)\n",
        "))\n",
        "\n",
        "ConfusionMatrixDisplay(\n",
        "    confusion_matrix(y_train, y_predict, normalize='pred'),\n",
        "    display_labels=[\"Politics\", \"Sports\"],\n",
        ").plot()"
      ],
      "metadata": {
        "colab": {
          "base_uri": "https://localhost:8080/",
          "height": 640
        },
        "id": "KA4JS2JDKj-L",
        "outputId": "c51dd555-452f-42b1-bf73-94f24a6cad36"
      },
      "execution_count": 168,
      "outputs": [
        {
          "output_type": "stream",
          "name": "stdout",
          "text": [
            "              precision    recall  f1-score   support\n",
            "\n",
            "    Politics       0.96      0.93      0.94      2553\n",
            "      Sports       0.93      0.96      0.95      2667\n",
            "\n",
            "    accuracy                           0.94      5220\n",
            "   macro avg       0.94      0.94      0.94      5220\n",
            "weighted avg       0.94      0.94      0.94      5220\n",
            "\n",
            "score train: 0.94 test: 0.91\n"
          ]
        },
        {
          "output_type": "execute_result",
          "data": {
            "text/plain": [
              "<sklearn.metrics._plot.confusion_matrix.ConfusionMatrixDisplay at 0x7f1e2ebc9480>"
            ]
          },
          "metadata": {},
          "execution_count": 168
        },
        {
          "output_type": "display_data",
          "data": {
            "text/plain": [
              "<Figure size 640x480 with 2 Axes>"
            ],
            "image/png": "[encoded data removed]"
          },
          "metadata": {}
        }
      ]
    },
    {
      "cell_type": "code",
      "source": [
        "y_predict = model.predict(X_test)\n",
        "\n",
        "print(\"{}\\nscore train: {:.2} test: {:.2}\".format(\n",
        "    classification_report(y_test, y_predict),\n",
        "    model.score(X_train, y_train), model.score(X_test, y_test)\n",
        "))\n",
        "\n",
        "ConfusionMatrixDisplay(\n",
        "    confusion_matrix(y_test, y_predict, normalize='pred'),\n",
        "    display_labels=[\"Politics\", \"Sports\"],\n",
        ").plot()"
      ],
      "metadata": {
        "colab": {
          "base_uri": "https://localhost:8080/",
          "height": 640
        },
        "id": "Jk_Sq4AAL-hF",
        "outputId": "083e34ff-fc12-4f0f-a498-e1c703503f34"
      },
      "execution_count": 169,
      "outputs": [
        {
          "output_type": "stream",
          "name": "stdout",
          "text": [
            "              precision    recall  f1-score   support\n",
            "\n",
            "    Politics       0.93      0.88      0.90       647\n",
            "      Sports       0.89      0.93      0.91       658\n",
            "\n",
            "    accuracy                           0.91      1305\n",
            "   macro avg       0.91      0.91      0.91      1305\n",
            "weighted avg       0.91      0.91      0.91      1305\n",
            "\n",
            "score train: 0.94 test: 0.91\n"
          ]
        },
        {
          "output_type": "execute_result",
          "data": {
            "text/plain": [
              "<sklearn.metrics._plot.confusion_matrix.ConfusionMatrixDisplay at 0x7f1e301dfdf0>"
            ]
          },
          "metadata": {},
          "execution_count": 169
        },
        {
          "output_type": "display_data",
          "data": {
            "text/plain": [
              "<Figure size 640x480 with 2 Axes>"
            ],
            "image/png": "[encoded data removed]"
          },
          "metadata": {}
        }
      ]
    },
    {
      "cell_type": "markdown",
      "source": [
        "### LogisticRegression"
      ],
      "metadata": {
        "id": "FHIT8b1ArZ0d"
      }
    },
    {
      "cell_type": "code",
      "source": [
        "# Word Frequency (No feature selection) Cross-validation\n",
        "\n",
        "model = LogisticRegression()\n",
        "\n",
        "# Use the cross_val_score function to evaluate the model using 5-fold cross-validation\n",
        "scores = cross_val_score(model, X_train_1, y_train, cv=5)\n",
        "\n",
        "raw_freq_cv_score = scores.mean()\n",
        "\n",
        "# Print the mean and standard deviation of the cross-validated scores\n",
        "print(\"Mean accuracy: {:.4f} (+/- {:.4f})\".format(scores.mean(), scores.std()))"
      ],
      "metadata": {
        "colab": {
          "base_uri": "https://localhost:8080/"
        },
        "id": "9fKSwx7xvu7y",
        "outputId": "78a8154f-4682-4e09-e6b9-994795bdd996"
      },
      "execution_count": 250,
      "outputs": [
        {
          "output_type": "stream",
          "name": "stdout",
          "text": [
            "Mean accuracy: 0.9439 (+/- 0.0038)\n"
          ]
        }
      ]
    },
    {
      "cell_type": "markdown",
      "source": [
        "#### Prediction"
      ],
      "metadata": {
        "id": "kIrBXqOHVFpY"
      }
    },
    {
      "cell_type": "code",
      "source": [
        "# Word Frequency (No feature selection) Generate prediction\n",
        "\n",
        "model.fit(X_train, y_train)\n",
        "\n",
        "test['Label'] = model.predict(X_test)\n",
        "\n",
        "submission_prediction = test[['TweetId', 'Label']]\n",
        "\n",
        "submission_prediction.to_csv('freq_prediction.csv', index=False)"
      ],
      "metadata": {
        "id": "NHANZgFpvvAf"
      },
      "execution_count": 251,
      "outputs": []
    },
    {
      "cell_type": "markdown",
      "source": [
        "### Frequency Threshold\n",
        "\n",
        "To find the optimal value for the threshold, we evaluate the crossvaluation scores and then apply the cut to the dataset."
      ],
      "metadata": {
        "id": "uT1qd6atfHPU"
      }
    },
    {
      "cell_type": "markdown",
      "source": [
        "#### Performance"
      ],
      "metadata": {
        "id": "tlrrHYIKfMvN"
      }
    },
    {
      "cell_type": "code",
      "source": [
        "def score_per_pca_feature_selection(threshold):\n",
        "\n",
        "    X_train_threshold = frequency_threshold_cut(X_train, threshold)\n",
        "\n",
        "    model = LogisticRegression()\n",
        "\n",
        "    scores = cross_val_score(model, X_train_threshold, y_train, cv=5)\n",
        "\n",
        "    return scores.mean()"
      ],
      "metadata": {
        "id": "t-655axKfJ2J"
      },
      "execution_count": 254,
      "outputs": []
    },
    {
      "cell_type": "code",
      "source": [
        "# PCA Cross-evaluation\n",
        "scores = []\n",
        "\n",
        "for thr in tqdm(range(5, 101, 5)):\n",
        "    scores.append((thr, score_per_pca_feature_selection(math.ceil(max_rank * thr / 100))))\n",
        "\n",
        "print(scores)"
      ],
      "metadata": {
        "colab": {
          "base_uri": "https://localhost:8080/",
          "height": 86,
          "referenced_widgets": [
            "84cd903ea83047a99de3252254310873",
            "38f62dc3a3fe4836aadc297bc5c36224",
            "9abd2291c15a4d79a904e7a6c1c0890c",
            "0d8e96b9e6e24649b8d11ad539724967",
            "eaffd98b756a475caeb9fcf2ce3c6fe3",
            "6462324dc80e478b9884f67a6fcb9b3a",
            "3877948f09a94c1f8d3389659080780b",
            "707ec475f51f469ab1c596922ed71a80",
            "e7258ec9c75c414c9c139f604454df0e",
            "0f650094add14dc890187128e8c9a5ad",
            "566798be2f7f440a9348499c92740280"
          ]
        },
        "id": "9FRrZNMEfKCR",
        "outputId": "f51bc707-5801-4105-dba5-ce222b7d7708"
      },
      "execution_count": 255,
      "outputs": [
        {
          "output_type": "display_data",
          "data": {
            "text/plain": [
              "  0%|          | 0/20 [00:00<?, ?it/s]"
            ],
            "application/vnd.jupyter.widget-view+json": {
              "version_major": 2,
              "version_minor": 0,
              "model_id": "84cd903ea83047a99de3252254310873"
            }
          },
          "metadata": {}
        },
        {
          "output_type": "stream",
          "name": "stdout",
          "text": [
            "[(5, 0.5682758620689655), (10, 0.6121072796934867), (15, 0.6481226053639848), (20, 0.6773946360153257), (25, 0.7025287356321839), (30, 0.7272030651340996), (35, 0.7471264367816092), (40, 0.760919540229885), (45, 0.7685823754789272), (50, 0.7828352490421455), (55, 0.8122605363984675), (60, 0.8186973180076628), (65, 0.8283524904214559), (70, 0.8367816091954022), (75, 0.8470498084291187), (80, 0.8531800766283524), (85, 0.8613026819923372), (90, 0.8646743295019157), (95, 0.8695785440613026), (100, 0.8770881226053641)]\n"
          ]
        }
      ]
    },
    {
      "cell_type": "code",
      "source": [
        "# Extract the values from the scores tuples\n",
        "x = [score[0] for score in scores]\n",
        "y = [score[1] for score in scores]\n",
        "\n",
        "# Create a line plot\n",
        "plt.plot(x, y)\n",
        "\n",
        "# Show the plot\n",
        "plt.show()"
      ],
      "metadata": {
        "colab": {
          "base_uri": "https://localhost:8080/",
          "height": 430
        },
        "id": "0_OuNapugbLD",
        "outputId": "cc34f281-1936-4c5d-ea9a-6232515153f0"
      },
      "execution_count": 256,
      "outputs": [
        {
          "output_type": "display_data",
          "data": {
            "text/plain": [
              "<Figure size 640x480 with 1 Axes>"
            ],
            "image/png": "[encoded data removed]"
          },
          "metadata": {}
        }
      ]
    },
    {
      "cell_type": "code",
      "source": [
        "# Best score\n",
        "freq_pca_best_score = max(scores, key=lambda x:x[1])\n",
        "best_scoring_percentage = freq_pca_best_score[0]\n",
        "\n",
        "print(freq_pca_best_score)"
      ],
      "metadata": {
        "colab": {
          "base_uri": "https://localhost:8080/"
        },
        "id": "yhc7iDG0fKIp",
        "outputId": "92c0fa89-23ca-4a81-fe13-593b4ef0b81f"
      },
      "execution_count": 257,
      "outputs": [
        {
          "output_type": "stream",
          "name": "stdout",
          "text": [
            "(100, 0.8770881226053641)\n"
          ]
        }
      ]
    },
    {
      "cell_type": "code",
      "source": [
        "# PCA Generate prediction\n",
        "\n",
        "best_scoring_n_components = math.ceil( max_rank * best_scoring_percentage / 100 )\n",
        "pca = PCA(n_components = best_scoring_n_components)\n",
        "\n",
        "pca.fit(X_train)\n",
        "\n",
        "X_train_pca = pca.transform(X_train)\n",
        "model.fit(X_train_pca, y_train)\n",
        "\n",
        "X_test_pca = pca.transform(X_test)\n",
        "\n",
        "test['Label'] = model.predict(X_test_pca)\n",
        "\n",
        "submission_prediction = test[['TweetId', 'Label']]\n",
        "\n",
        "submission_prediction.to_csv('pca_prediction.csv', index=False)"
      ],
      "metadata": {
        "id": "Ts7GJRjOfKO-"
      },
      "execution_count": 258,
      "outputs": []
    }
  ]
}